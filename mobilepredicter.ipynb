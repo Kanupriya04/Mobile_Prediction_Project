{
 "cells": [
  {
   "cell_type": "code",
   "execution_count": 1,
   "id": "5ceeb27e",
   "metadata": {},
   "outputs": [],
   "source": [
    "import pandas as pd\n",
    "import numpy as np"
   ]
  },
  {
   "cell_type": "code",
   "execution_count": 2,
   "id": "bf3f1ca3",
   "metadata": {},
   "outputs": [],
   "source": [
    "df =pd.read_csv('Flipkart_Mobiles.csv')"
   ]
  },
  {
   "cell_type": "code",
   "execution_count": 3,
   "id": "23ac4c2b",
   "metadata": {},
   "outputs": [
    {
     "data": {
      "text/html": [
       "<div>\n",
       "<style scoped>\n",
       "    .dataframe tbody tr th:only-of-type {\n",
       "        vertical-align: middle;\n",
       "    }\n",
       "\n",
       "    .dataframe tbody tr th {\n",
       "        vertical-align: top;\n",
       "    }\n",
       "\n",
       "    .dataframe thead th {\n",
       "        text-align: right;\n",
       "    }\n",
       "</style>\n",
       "<table border=\"1\" class=\"dataframe\">\n",
       "  <thead>\n",
       "    <tr style=\"text-align: right;\">\n",
       "      <th></th>\n",
       "      <th>Brand</th>\n",
       "      <th>Model</th>\n",
       "      <th>Color</th>\n",
       "      <th>Memory</th>\n",
       "      <th>Storage</th>\n",
       "      <th>Rating</th>\n",
       "      <th>Selling Price</th>\n",
       "      <th>Original Price</th>\n",
       "    </tr>\n",
       "  </thead>\n",
       "  <tbody>\n",
       "    <tr>\n",
       "      <th>0</th>\n",
       "      <td>OPPO</td>\n",
       "      <td>A53</td>\n",
       "      <td>Moonlight Black</td>\n",
       "      <td>4 GB</td>\n",
       "      <td>64 GB</td>\n",
       "      <td>4.5</td>\n",
       "      <td>11990</td>\n",
       "      <td>15990</td>\n",
       "    </tr>\n",
       "    <tr>\n",
       "      <th>1</th>\n",
       "      <td>OPPO</td>\n",
       "      <td>A53</td>\n",
       "      <td>Mint Cream</td>\n",
       "      <td>4 GB</td>\n",
       "      <td>64 GB</td>\n",
       "      <td>4.5</td>\n",
       "      <td>11990</td>\n",
       "      <td>15990</td>\n",
       "    </tr>\n",
       "    <tr>\n",
       "      <th>2</th>\n",
       "      <td>OPPO</td>\n",
       "      <td>A53</td>\n",
       "      <td>Moonlight Black</td>\n",
       "      <td>6 GB</td>\n",
       "      <td>128 GB</td>\n",
       "      <td>4.3</td>\n",
       "      <td>13990</td>\n",
       "      <td>17990</td>\n",
       "    </tr>\n",
       "    <tr>\n",
       "      <th>3</th>\n",
       "      <td>OPPO</td>\n",
       "      <td>A53</td>\n",
       "      <td>Mint Cream</td>\n",
       "      <td>6 GB</td>\n",
       "      <td>128 GB</td>\n",
       "      <td>4.3</td>\n",
       "      <td>13990</td>\n",
       "      <td>17990</td>\n",
       "    </tr>\n",
       "    <tr>\n",
       "      <th>4</th>\n",
       "      <td>OPPO</td>\n",
       "      <td>A53</td>\n",
       "      <td>Electric Black</td>\n",
       "      <td>4 GB</td>\n",
       "      <td>64 GB</td>\n",
       "      <td>4.5</td>\n",
       "      <td>11990</td>\n",
       "      <td>15990</td>\n",
       "    </tr>\n",
       "  </tbody>\n",
       "</table>\n",
       "</div>"
      ],
      "text/plain": [
       "  Brand Model            Color Memory Storage  Rating  Selling Price  \\\n",
       "0  OPPO   A53  Moonlight Black   4 GB   64 GB     4.5          11990   \n",
       "1  OPPO   A53       Mint Cream   4 GB   64 GB     4.5          11990   \n",
       "2  OPPO   A53  Moonlight Black   6 GB  128 GB     4.3          13990   \n",
       "3  OPPO   A53       Mint Cream   6 GB  128 GB     4.3          13990   \n",
       "4  OPPO   A53   Electric Black   4 GB   64 GB     4.5          11990   \n",
       "\n",
       "   Original Price  \n",
       "0           15990  \n",
       "1           15990  \n",
       "2           17990  \n",
       "3           17990  \n",
       "4           15990  "
      ]
     },
     "execution_count": 3,
     "metadata": {},
     "output_type": "execute_result"
    }
   ],
   "source": [
    "df.head()"
   ]
  },
  {
   "cell_type": "code",
   "execution_count": 4,
   "id": "1185e815",
   "metadata": {},
   "outputs": [
    {
     "data": {
      "text/plain": [
       "(3114, 8)"
      ]
     },
     "execution_count": 4,
     "metadata": {},
     "output_type": "execute_result"
    }
   ],
   "source": [
    "df.shape"
   ]
  },
  {
   "cell_type": "code",
   "execution_count": 5,
   "id": "195982ed",
   "metadata": {},
   "outputs": [
    {
     "name": "stdout",
     "output_type": "stream",
     "text": [
      "<class 'pandas.core.frame.DataFrame'>\n",
      "RangeIndex: 3114 entries, 0 to 3113\n",
      "Data columns (total 8 columns):\n",
      " #   Column          Non-Null Count  Dtype  \n",
      "---  ------          --------------  -----  \n",
      " 0   Brand           3114 non-null   object \n",
      " 1   Model           3114 non-null   object \n",
      " 2   Color           3114 non-null   object \n",
      " 3   Memory          3071 non-null   object \n",
      " 4   Storage         3075 non-null   object \n",
      " 5   Rating          2970 non-null   float64\n",
      " 6   Selling Price   3114 non-null   int64  \n",
      " 7   Original Price  3114 non-null   int64  \n",
      "dtypes: float64(1), int64(2), object(5)\n",
      "memory usage: 194.8+ KB\n"
     ]
    }
   ],
   "source": [
    "df.info()"
   ]
  },
  {
   "cell_type": "code",
   "execution_count": 6,
   "id": "e906ee28",
   "metadata": {},
   "outputs": [
    {
     "data": {
      "text/plain": [
       "array([4.5, 4.3, 4.4, 4.2, nan, 4. , 4.6, 3.8, 3. , 4.1, 3.7, 3.1, 4.7,\n",
       "       3.9, 3.4, 3.3, 3.6, 3.5, 3.2, 2.7, 2.8, 5. , 2.4, 2.3, 4.9, 4.8])"
      ]
     },
     "execution_count": 6,
     "metadata": {},
     "output_type": "execute_result"
    }
   ],
   "source": [
    "df['Rating'].unique()"
   ]
  },
  {
   "cell_type": "code",
   "execution_count": 7,
   "id": "b4d8b1e0",
   "metadata": {},
   "outputs": [
    {
     "data": {
      "text/plain": [
       "array([ 11990,  13990,  10490,   9490,  15990,  17990,  11960,  11779,\n",
       "        18979,   8990,  19990,  14990,  29990,  16990,  12199,  21990,\n",
       "        15999,  13850,  35990,  10990,  13499,  18380,  39990,  26798,\n",
       "        12990,  27990,  23490,  25990,  12889,   9989,  24989,  11249,\n",
       "        24990,  29999,  29489,  20999,  24719,  24768,  60990,  34990,\n",
       "        17000,  27500,  15000,  18000,  11000,  23990,  19000,  15500,\n",
       "        17999,   9940,  10000,  15726,  12500,  18990,  13799,  13899,\n",
       "        25889,  13490,   8490,  15677,  12000,  21150,  14995,   9500,\n",
       "        13750,  13500,  22990,  13489,  18490,   7990,  20990,   9990,\n",
       "        30994,  17890,  30990,  21999,  21452,  16890,   4999,  15739,\n",
       "        38990,  38999,  41990,  24900,  56990,  12999,  16999,  13999,\n",
       "        37990,  31999,  44999,  69999,  71000,  80000,  83000,  92000,\n",
       "        39999,  76000,  82000,  61000,  70000,  66000,  57000,   7690,\n",
       "        44990,  15532,   9999,  10999,  14999,  13775,   5899,   7999,\n",
       "         6999,  13998,   7799,  10499,  24000,   7299,   8399,  12950,\n",
       "        55000,   5000,  12790,  29199,  60000,  26299,  50000,  52990,\n",
       "         9499,   8499,  12791,   8800,   5699,  42021,  10199,  31971,\n",
       "        20000,   7499,   6980,  14250,   6590,  25400,   8350,   7000,\n",
       "         6299,  13299,  31490,   9000,  22999,   8199,  25999,  24998,\n",
       "        29790,  14162,  16790,  16996,  20998,  21001,  11849,   8000,\n",
       "        30600,  49999,  15599,  46999,  36299,  35999,   5299,   8999,\n",
       "         7199,  40999,  57999,   5840,   4990,   4649,  43999,  14499,\n",
       "         6990,  13199,   4890,   4499,   7300,   9599,  26499,   4880,\n",
       "        19999,  62999,  32999,  79999,  11999,  37999,   7699,   8690,\n",
       "         5990,  14500,   6749,  12490,   7668,   8799,  15499,  16499,\n",
       "        18499,  11900,  12499,  11499,  27999,  47999,  24999,  41999,\n",
       "         6499,   8285,  12799,  18999,  19499,  36999,  11490,  21499,\n",
       "         8750,   5499,   5666,   6490,   6899,   8590,   2199,   4150,\n",
       "         3150,   1890,   4290,   2350,   2490,   3990,   5199,   2450,\n",
       "         3490,   4190,   1099,   7900,   4650,   7290,  15490,   5290,\n",
       "         4750,   4450,   2799,   7150,   2999,   6475,   8479,   6450,\n",
       "         2650,   4850,   5149,  13649,  15399,   6399,   7350,   7899,\n",
       "         3999,   9250,   5999,   5555,   7675,   9290,   5950,   6598,\n",
       "         7997,   4489,   8539,   8389,   3499,   6660,   4790,   4899,\n",
       "         4599,   3599,   9964,   9199,  11500,   6500,   4200,   2290,\n",
       "         8950,   6600,   1349,   1340,   1332,   1344,   1399,   1695,\n",
       "         2875,   2440,   1680,   2997,   2480,   1490,   4199,   4049,\n",
       "         2249,   3429,   3886,   3075,   2142,   2533,  13549,   3974,\n",
       "         1149,  10399,  12149,   2349,   3740,   4400,   2499,   3162,\n",
       "         3896,   4399,   3220,  56299,   2000,   1400,   2200,   1600,\n",
       "         1900,   1660,  14490,   1500,   3899,   1625,   1000,   1860,\n",
       "        14927,   4800,   7739,   4672,  18300,   3100,   7007,   7712,\n",
       "         8588,  16300,   2149,   2540,   8449,   8599,  17979,  15299,\n",
       "        40699,   7088,  10440,   7399,   1599,   1560,   3400,  12399,\n",
       "         6295,  10899,  16199,   4196,  17599,   7490,  28831,   3000,\n",
       "         7139,   7890,  11199,   6741,   6400,   6699,  18599,   1519,\n",
       "        11989,   4300,   2860,   9975,  13790,  13699,  12998,  39000,\n",
       "         3799,   8299,  12849,   2790,  29490,   4189,   9900,  42999,\n",
       "        61999, 129900,  44900,  49900,  68999,  78999,  63999,  56999,\n",
       "        89900,  54900,  79900,  71999, 149900,  69900, 119900, 117100,\n",
       "       109900, 139900,  59900, 140300, 134900,  84900,  77000, 179900,\n",
       "       131900, 144900,  85400,  25299,  76999,  34900, 121300,  74400,\n",
       "        62500,  99900,  42900,  64900, 159900,  81500,  91900,  73999,\n",
       "        48999,  36990, 150800,  55999, 169900,  36499,  71500,  59999,\n",
       "        30780,  52000,  62000, 106900,  72000,  80500,  29900,  20949,\n",
       "         9539,   1200,  19818,  11510,  17845,   9639,   8850,  12144,\n",
       "        13224,  23596,  14839,  19330,   8229,   2340,   8897,  16299,\n",
       "        17499,  88999,  34999,  19725,  18654,  14690,  22499,  84999,\n",
       "        14749,  19979,  23999,  15843,  37499,  17578,  11299,   8289,\n",
       "        27499,  11744,  21700,  49990,  19178,  15199,  11699,  15989,\n",
       "        77999,  28999,  15271,  11745,  11290,   1375,  30500,   2025,\n",
       "         1100,   1445,  11730, 157999,  21950,  17989,  20696,  22450,\n",
       "         1549,  10398,   1450,   1700,   2599,  17888,  25600,  13984,\n",
       "        30900,  17575,  54599,   2336,  27810,   2299,  14859, 149999,\n",
       "         2399,   2282,  91999,   3013,  14900,  16879,  18199,   3062,\n",
       "        12900,   2050,   8892,   7500,  13995,  29998,  17962,  14000,\n",
       "        13600, 103000,   8700,   6200,   6799,   6000,  10995,  13023,\n",
       "        23748, 117990,  17889,   8780,   8083,   9840, 105999,  17500,\n",
       "        11995,  13800,  37299,  25900,  19500,   3200,   1448,   1882,\n",
       "        28490,   1435,  16980,  11599,  14300,   2899,  21450,  24600,\n",
       "        24499,  54999,   5900,   8190,  16750,   2870,   2849,   1497,\n",
       "        17490,   3271,  13760,   9100,   4988,  13695,  17600,  11390,\n",
       "        46900,   7400,  53999,  73600,  20400,  21099,  18699,  26900,\n",
       "         8650,  75999,   8200,  95000,  45999,  15899,   2940,  20700,\n",
       "        29899,   7454,  74000,   2089,  36000,   2815,  61900,  42000,\n",
       "        22389,   2699,  68900,  16200,  22900,  11200,  46300,   8090,\n",
       "         3780,  50650,   6048,  53900,  19900,  33500,  38900,   7550,\n",
       "        39900,   1990,  21000,  10800,   7200,  11700,  14700,  36900,\n",
       "         2980,  40690,  59000,  13900,  41900,  93000,  16989, 116999,\n",
       "        16998,  26600,  14090,  27330,  18900,   1949,  52905,  17194,\n",
       "         5590,  15300,   9833,  13589,  17259,   5795,  22300, 169999,\n",
       "        30495,  10848,   5490,   6480,   8170,  30000,  55900,   7992,\n",
       "        79000,  65900,  48669,  14069,  23500,  22222,   3285,  51000,\n",
       "        15890,  49980,  16860,  19980,  33900,   5110,  15900,   4500,\n",
       "         6549,  70490,  26000,   6190,  39899,   1662,  18340,  34899,\n",
       "         9890,   5940,   6995,   4299,  16000,   3500,   5920,  11250,\n",
       "         8250,  28000,  13604,   6950,   9799,   7819,   6266,   7700,\n",
       "         9150,   6250,  12899,  15410,   7580,   7650,   3549,   7599,\n",
       "         9229,   6750,   6989,   9795,  89999,  74999,   6900,  64999,\n",
       "         9869,  14939,  11829,   5450,   8390,  10910,  13400,  69990,\n",
       "        32990,  28990,  28499,  22654,  20600,  19490,  16490,  13890,\n",
       "         8205,  45871,  24890,  22650,  22950,  26989,  26824,  24744,\n",
       "        26828,  24283,  24338,  27950,  26758,  26295,  24492,  26495,\n",
       "        36290,  38950,  14949,  14398,  14443,  11948,   9399,  10450,\n",
       "        12349,   7989,   8561,  10070,  10121,   9828,   7589,   7698,\n",
       "         8498,   7619,  18429,  21349,  20899,  19799,  18887,  17765,\n",
       "        17995,   9998,  12449,  11748,  13399,  11946,  14450,  15449,\n",
       "        14980,  16399,  15998,  16488,   9478,  10888,   9468,   9450,\n",
       "         9950,  53990,  62990,  12570,  47990,  56690,  15400,  11810,\n",
       "        13200,  26999,  18249,  19695,   9590,  38800,  12400,  25500,\n",
       "        17200,  15200,  27390,  35490,  59590,  46988,  30999,  12049,\n",
       "        14449,  43990,  79990,  46990,  54990,  48780,  23400,  35399,\n",
       "        19899,  22099,  41996,  21736,  19119,  19100,  18778,  18187,\n",
       "        22189,  22163,  25684,  24798,   7798,   7946,   9299,   6949,\n",
       "        17790, 104900,  94900,  22490,  59990,  22910,  22930,  27839,\n",
       "        25489,  27239,  22989,  20350], dtype=int64)"
      ]
     },
     "execution_count": 7,
     "metadata": {},
     "output_type": "execute_result"
    }
   ],
   "source": [
    "df['Selling Price'].unique()"
   ]
  },
  {
   "cell_type": "code",
   "execution_count": 8,
   "id": "a34fbc18",
   "metadata": {},
   "outputs": [
    {
     "data": {
      "text/plain": [
       "array(['4 GB', '6 GB', '3 GB', '8 GB', '2 GB', '12 GB', '1 GB', '512 MB',\n",
       "       '1.5 GB', '768 MB', '16 GB', '18 GB', '8 MB', '64 MB', '4 MB',\n",
       "       '32 MB', '16 MB', '128 MB', nan, '4GB', '153 MB', '2 MB', '10 MB',\n",
       "       '46 MB', '32 GB', '100 MB', '30 MB'], dtype=object)"
      ]
     },
     "execution_count": 8,
     "metadata": {},
     "output_type": "execute_result"
    }
   ],
   "source": [
    "df['Memory'].unique()"
   ]
  },
  {
   "cell_type": "code",
   "execution_count": 9,
   "id": "e272c15a",
   "metadata": {},
   "outputs": [
    {
     "data": {
      "text/plain": [
       "array(['Moonlight Black', 'Mint Cream', 'Electric Black', 'Deep Blue',\n",
       "       'Black', 'Blue', 'Flowing Silver', 'Crystal Blue', 'Ink Black',\n",
       "       'Lake Green', 'Mystery Black', 'Fantastic Purple', 'Matte Black',\n",
       "       'Moonlight Gold', 'Aurora', 'Stellar Black', 'Magic Blue',\n",
       "       'Starry Blue', 'Crystal Black', 'Metallic White', 'Fantasy White',\n",
       "       'Navy Blue', 'Fancy Blue', 'Pearl Blue', 'Astral Blue',\n",
       "       'CRYSTAL BLACK', 'Dynamic Black', 'Dynamic Orange', 'Mystery Blue',\n",
       "       'Fairy White', 'Fluid Black', 'Sky White', 'Midnight Black',\n",
       "       'Rainbow Silver', 'Auroral Blue', 'Crystal Silver', 'Space Silver',\n",
       "       'Fancy White', 'Midnight Blue', 'Glaring Gold', 'Starry Black',\n",
       "       'Red', 'JET BLACK', 'Luminous Black', 'Unicorn White',\n",
       "       'Prism Black', 'Piano Black', 'Classic Silver', 'Lightening Black',\n",
       "       'Marine Green', 'Bordeaux Red', 'Galactic Blue', 'Marble Green',\n",
       "       'Diamond Blue', 'Silky White', 'Starry Night', 'Space Purple',\n",
       "       'Dazzling White', 'Rose Gold', 'Gold', 'Blazing Blue', 'Purple',\n",
       "       'Champagne', 'Aurora Blue', 'Mist Black', 'Twilight Black',\n",
       "       'Stream White', 'Vanilla Mint', 'Green', 'Grey', 'Sunrise Red',\n",
       "       'Twilight Blue', 'Starry Purple', 'Glowing Gold', 'Glowing Black',\n",
       "       'Diamond Red', 'Glaze Blue', 'Mirror Black', 'Jade Black', 'White',\n",
       "       'Stellar Purple', 'Fluorite Purple', 'Waterfall Grey',\n",
       "       'Aurora Green', 'Thunder Black', 'Fancy white', 'Jewelry White',\n",
       "       'Silver', 'Glacier Blue', 'Neon Purple', 'Space Blue', 'Jet Black',\n",
       "       'Majestic Gold', 'Ocean Green', 'Ocean Blue', 'Starry purple',\n",
       "       'Amazing Silver', 'Blue MB', 'Quantum Silver', 'Tornado Black',\n",
       "       ' Tornado Black', 'Just Black', 'Clearly White', 'Not Pink',\n",
       "       'Very Silver', 'Aurora Silver', 'midnight blue', 'Midnight Purple',\n",
       "       'Moroccan Blue', 'Smokey Gray', 'Black Blue', 'MAGIC BLUE',\n",
       "       'Thunder Blue', 'Thunder blue', 'Platinum', 'Titan',\n",
       "       'Silver Titan', 'Platinum Grey', 'Brown', 'Ice', 'Black Titan',\n",
       "       'AURORA SILVER', 'Aurora Gray', 'Laser Blue', 'Black & Blue',\n",
       "       'Black Gold', 'Gold & Black', 'Illusion Sky', 'Carbon',\n",
       "       'Genuine Leather Black', 'Titan Silver', 'Pink', 'Metallic Gray',\n",
       "       'Lavender Violet', 'Genuine Leather Brown', 'Meteor Silver',\n",
       "       'Silver Blue', 'Yellow', 'Rose Pink', 'Titanium', 'Aqua Blue',\n",
       "       'Orange', 'Cool Blue', 'Cool Grey', 'Racing Blue', 'Racing Silver',\n",
       "       'Cross Black', 'Cross Blue', 'Space Black', 'Watery Grey',\n",
       "       'Watery Blue', 'Universe Blue', 'Metal Grey', 'Universe Purple',\n",
       "       'Laser Black', 'Supersonic Black', 'Supersonic Blue',\n",
       "       'Infinite Black', 'Power Blue', 'Infinite Blue', 'Cyber Silver',\n",
       "       'Cyber Black', 'Power Silver', 'Rich Grey', 'Rich Green',\n",
       "       'Mist Blue', 'Nebula', 'Sword Black', 'Blade Silver',\n",
       "       'Frozen Blue', 'Chroma White', 'Fusion Green', 'Diamond Black',\n",
       "       'Arctic White', 'Eclipse Black', 'Comet White', 'Lunar White',\n",
       "       'Pearl White', 'Moonlight Silver', 'Mint Green', 'Carbon Black',\n",
       "       'Oxygen Blue', 'Oxygen Green', 'Pearl Green',\n",
       "       'Illuminating Yellow', 'Sparkling Blue', 'Rust Red',\n",
       "       'Dashing Blue', 'Moss Green', 'Crystal Green', 'Racing Yellow',\n",
       "       'Comet Blue', 'Mystic Black', 'Cosmos Black', 'Volcano Grey',\n",
       "       'Blazing Red', 'Fusion Blue', 'Mist White', 'Sun Kissed Leather',\n",
       "       'Black Ninja', 'White Knight', 'Glory Silver', 'Victory Blue',\n",
       "       'So White', 'That Green', 'That White', 'Lightning Red', 'So Blue',\n",
       "       'That Blue', 'Ambitious Black', 'Fiery Gold', 'Brave Blue',\n",
       "       'Lightning Blue', 'Solar Red', 'Diamond Sapphire', 'Diamond Ruby',\n",
       "       'Forest Green', 'Lightning Orange', 'Radiant Blue', 'Red Brick',\n",
       "       'Concrete', 'Garlic', 'Onion', 'Polar White', 'Neptune Blue',\n",
       "       'Super Polar White', 'Royal Blue', 'Dark Blue', 'Oxford Blue',\n",
       "       'Rainbow Black', 'Mocha Gold', 'Black and Gold', 'Latte Gold',\n",
       "       'Champagne Gold', 'Polar Gold', 'CHAMPAGNE GOLD', 'Fjord',\n",
       "       'Polar Night', 'Charcoal Grey', 'Nordic Blue', 'Night | Dark Blue',\n",
       "       'Dusk | Purple', 'Sand', 'Dusk', 'Charcoal', 'Fjord Blue',\n",
       "       'Dusk Purple', 'Night', 'Copper', 'Grey / Silver', 'Warm Red',\n",
       "       'Copper/Black', 'Blue & Silver', 'Silver White', 'Black&Blue',\n",
       "       'Cyan Green', 'Baltic', 'Iron', 'Steel', 'Pewter / White',\n",
       "       'Tempered Blue', 'SAND', 'CYAN', 'Dark Grey', 'CHARCOAL',\n",
       "       'Bright Green', 'White & Copper', 'Pink Sand', 'Polished Copper',\n",
       "       'Copper White', 'Polished Blue', 'Bright Red', 'Black & Copper',\n",
       "       'Sierra Blue', 'Starlight', 'Midnight', 'Coral', 'Pacific Blue',\n",
       "       'Midnight Green', 'Graphite', 'Space Grey', 'Space Gray',\n",
       "       'Denim Blue', 'Denim Black', 'Sky Blue', 'Sea Green',\n",
       "       'Mirage Blue', 'Celestial Black', 'Mint', 'Arctic blue',\n",
       "       'Mirage Black', 'Sky blue', 'Cream', 'Awesome Black', 'Light Blue',\n",
       "       'Prism Crush Blue', 'Phantom Black', 'Laser Grey', 'Awesome White',\n",
       "       'Arctic Blue', 'Slate Black', 'Laser Green', 'Awesome Blue',\n",
       "       'Cloud Navy', 'Prism White', 'Violet', 'Awesome Violet',\n",
       "       'Mystic Bronze', 'Aura Black', 'Haze Crush Silver',\n",
       "       'Prism Crush Red', 'Iceberg blue', 'Metallic Blue',\n",
       "       'Prism Crush Violet', 'Diamond White', 'Mystic Blue',\n",
       "       'Prism Crush Black', 'Mystic Green', 'Cloud White',\n",
       "       'Prism Crush White', 'Gradation Blue', 'Prism Dot Black',\n",
       "       'Caviar Black', 'Cosmic Gray', 'Seawater Blue', 'Absolute black',\n",
       "       'Ceramic Black', 'Ceramic White', 'White Pearl', 'Black Sapphire',\n",
       "       'Gold Sand', 'Electric Blue', 'Angel Gold', 'Fusion Black',\n",
       "       'Shimmery White', 'Phantom Gray', 'Aura Glow', 'Prism Dot Gray',\n",
       "       'Cloud Blue', 'Dark Gray', 'Iris Charcoal', 'Phantom Violet',\n",
       "       'Iceberg Blue', 'Stainless Black', 'Lemonade Blue',\n",
       "       'black sapphire', 'Metallic Copper', 'White Frost', 'IceBerg Blue',\n",
       "       'Charcoal Black', 'Lavender Purple', 'Prism Crush Silver',\n",
       "       'Prism Blue', 'Burgundy Red', 'Ghost White', 'Cloud Pink',\n",
       "       'Coral Blue', 'Frosted Gold', 'Aura Red', 'Phantom White',\n",
       "       'Orchid Grey', 'Black Sky', 'Pearl white', 'Lilac Purple',\n",
       "       'Silver Titanium', 'Deep Black', 'Classic White', 'Gold Platinum',\n",
       "       'Polaris Blue', 'Copper Gold', 'Sunrise Gold', 'Alpine White',\n",
       "       'Chic White', 'Blue Coral', 'Aura White', 'Quartz Green',\n",
       "       'Phantom Silver', 'Pebble Blue', 'Black Onyx', 'Cloud Mint',\n",
       "       'Wine Red', 'Cloud Lavender', 'Cloud Red', 'Raven Black',\n",
       "       'Gradation Black', 'Cosmic Black', 'Noble Black', 'Frost White',\n",
       "       'Maple Gold', 'Marble White', 'Bronze Gold', 'Charcoal Gray',\n",
       "       'Blossom Pink', 'COCKTAIL ORANGE', 'Titan Gray', 'Metallic Silver',\n",
       "       'Pure White', 'Black Pearl', 'Pink Gold', 'Fine Gold',\n",
       "       'Venom Black', 'dark gold', 'Black/Tuxedo Black',\n",
       "       'Starry Night Black', 'Sprite', 'GREY/BLACK', 'Tahiti Blue',\n",
       "       'Cyber Teal', 'Aurora Grey', 'Frosted Champagne', 'Dynamic Gray',\n",
       "       'Coral Red', 'Electric Graphite', 'Breeze Blue', 'Frosted Emerald',\n",
       "       'Super Black', 'Polished Graphite', 'Frosted Pearl',\n",
       "       'Indigo Black', 'Sapphire Gradient', 'Dark Pearl', 'Volcanic Grey',\n",
       "       'Electric Violet', 'Pastel Sky', 'Moonlight White',\n",
       "       'Sapphire Blue', 'Misty Blue', 'Frosted Silver', 'Smoky Sangria',\n",
       "       'Ultra Violet', 'Lunar Gray', 'Sterling Blue', 'Rich Cranberry',\n",
       "       'Cosmic Blue', 'Bronze Gradient', 'Crystal Pink',\n",
       "       'Twilight Orange', 'Caribbean Blue', 'Metallic Sage', 'Lunar Grey',\n",
       "       'Black Leather', 'Graphite Black', 'Steel Blue', 'Power Black',\n",
       "       'Mostly Blue', 'Lime Green', 'Obsidian Black', 'Purist Blue',\n",
       "       'Nebula Blue', 'Midday Dream', 'Diamond Glow', 'Dawn White',\n",
       "       'Roman Black', 'Diamond Flare', 'Olive Black', 'Titanium Sapphire',\n",
       "       'Slate Gray', 'Prism Magic', 'Crystal Symphony', 'Sunset Jazz',\n",
       "       'Gravity Black', 'Agate Red', 'Deep Sea Blue', 'Sunset Melody',\n",
       "       'Sunset Dazzle', 'Dusk Blue', 'Fantastic Rainbow', 'Emerald Black',\n",
       "       'Aquamarine Green', 'Midnight Jazz', 'Shimmer Blue', 'Coral Green',\n",
       "       'Twilight Grey', 'Atlantic Blue', 'Pacific Sunrise',\n",
       "       'Lunar Silver', 'Jazz Blue', 'Tuscany Coral', 'Vinyl Black',\n",
       "       'Celestial Silver', 'LUNAR WHITE', 'CELESTIAL SILVER',\n",
       "       'COSMIC BLACK', 'Kind of Grey', 'More Than White', 'Not just Blue',\n",
       "       'Metallic Grey', 'Lake Blue', 'Matte Gold', 'Onyx Black',\n",
       "       'Ruby Red', 'Sunset Red', 'Midnight Grey', 'Sea Blue',\n",
       "       'Sporty Orange', 'Electric Green', 'Fiery Red', 'Mighty Black',\n",
       "       'Sunrise Flare', 'Nature Green', 'SeaBlue', 'Flame Red',\n",
       "       'Dark Nebula', 'Dark Night', 'Cosmic Purple', 'MOONLIGHT WHITE',\n",
       "       'Nebula Red', 'Astro Moonlight White', 'Aqua Green', 'Pebble Grey',\n",
       "       'Shadow Black', 'Glacier White', 'Interstellar Black', 'Bold Red',\n",
       "       'Elegant Blue', 'Prime Black', 'Brilliant Black', 'Sprinkle White',\n",
       "       'Carbon Grey', 'Topaz Gold', 'Sunset Blue', 'White Birch',\n",
       "       'Blue Lagoon', 'Milkyway Grey', 'Meteor Grey', 'Gold Sepia',\n",
       "       'Gold and Silver', 'Fervor Red', 'Santorini White', 'Saffron Grey',\n",
       "       'Glossy Black', 'Amber Gold', 'White  ', 'Gunmetal Grey', 'Grey ',\n",
       "       'Rainbow Blue', 'Predator Black', 'Gunmetal Silver',\n",
       "       'Armoured Edition', 'Two shades of black', 'Green and Greener',\n",
       "       'Out of Blue', 'Slate Blue', 'Pitch Black', 'Brick Red',\n",
       "       'Matrix Purple', 'Pheonix Red', 'Rosso Red', 'Daybreak Blue',\n",
       "       'Neo Blue', 'Neo Black', 'Luna White ', 'Voyager Grey',\n",
       "       'Mercury Silver', 'Asteroid Black', 'Awesome Mint',\n",
       "       'Phantom Green', 'Lavender  ', 'Matte Aqua', 'Sunshine Gold',\n",
       "       'Stardust Black', 'Neon Spark', 'Enigma Black', 'Aurora Dawn',\n",
       "       'Alpha Grey', 'Frost Blue', 'Skyline Blue', 'Phantom Purple',\n",
       "       'Sonic Blue', 'Sonic Black', 'Nebula Purple', 'Dazzling Gold',\n",
       "       'Pearl Black', 'Energetic Blue', 'Celestial Magic',\n",
       "       'Meteorite Black', 'Stealth Black', 'Purple Mist', 'Pacific Pearl',\n",
       "       'Camo Green', 'Aquamarine Blue', 'Stardust White',\n",
       "       'Diamond Dazzle', 'Aegean Blue', 'Purple  ', 'Morandi Green',\n",
       "       'Polar Black', 'Green Wave', 'Silver Wave', 'Emerald Green',\n",
       "       'Quetzal Cyan', 'Ocean Wave', 'Celestial Snow', 'Symphony Cyan',\n",
       "       'Haze Green', 'Glacier Green', 'Mithril Grey', 'Nordic Secret',\n",
       "       'Milan Black', 'Sandstone Black', 'Ice Blue', 'Sapphire Cyan',\n",
       "       'Bordeaux Red ', 'Heart of Ocean', 'Silver Diamond', 'Topaz Blue',\n",
       "       'Moonlight Jade', 'Amber Red', 'Aether Black', 'Tradew Grey',\n",
       "       'Mocha Brown', 'City Blue', 'Serene Gold', 'Blush Gold',\n",
       "       'Magic Gold', 'Shark Grey', 'Quartz Black', 'Charcoal Blue',\n",
       "       'Black Diamond', 'Berlin Gray', 'Twilight Purple', 'Bolivia Blue',\n",
       "       'Bronze Gold Black', 'Startrails Blue', 'Shadow Grey',\n",
       "       'Rainbow Fantasy', 'Starlight Black', 'Royal Gold', 'Storm White',\n",
       "       'Alpine Green', 'Glowing Galaxy', 'Meteor Black', 'Stargaze White',\n",
       "       'Sunrise Blue ', 'Azure Glow', 'Starry Glow', 'Glowing Green',\n",
       "       'Blazing Black', 'Icy Blue'], dtype=object)"
      ]
     },
     "execution_count": 9,
     "metadata": {},
     "output_type": "execute_result"
    }
   ],
   "source": [
    "df['Color'].unique()"
   ]
  },
  {
   "cell_type": "code",
   "execution_count": 10,
   "id": "c8f452a4",
   "metadata": {},
   "outputs": [
    {
     "data": {
      "text/plain": [
       "array(['A53', 'A12', 'A53s 5G', 'A33', 'A31', 'A74 5G', 'A11K', 'F17 Pro',\n",
       "       'A54', 'Reno6 5G', 'F17', 'A16', 'Reno5 Pro 5G', 'A15',\n",
       "       'A74 5G BLACK', 'Reno6 Pro 5G', 'Reno2 F', 'Reno3 Pro', 'A15s',\n",
       "       'A15S', 'F19 Pro', 'F19 Pro+ 5G', 'F19', 'A7', 'F5', 'A5s', 'Reno',\n",
       "       'Reno2 Z', 'F15', 'K1', 'A9 2020', 'Find X',\n",
       "       'Reno4 Pro Special Edition', 'F11', 'A5', 'Reno4 Pro', 'A5 2020',\n",
       "       'F3 Deepika Padukone Limited Edition', 'F1 Plus',\n",
       "       'A83 2018 Edition', 'F3', 'A3s', 'A83', 'K3', 'F9', 'A52',\n",
       "       'A71 New Edition', 'Neo 7 4G', 'A71', 'A57', 'A1K', 'A37f',\n",
       "       'F9 Pro', 'F19s', 'A71k', 'A9', 'F3 Plus',\n",
       "       'Rohit Sharma Limited Edition', 'F17 PRO',\n",
       "       'Hardik Pandya Limited Editon',\n",
       "       'Ravichandran Ashwin Limited Edition', 'F11 Pro', 'R1 R829',\n",
       "       'F5 Youth', 'F7', 'Neo 5', 'F1', 'Reno2', 'R17',\n",
       "       'F11 Pro Marvel’s Avengers Limited Edition', 'Reno 10x Zoom',\n",
       "       'F1S', 'N5111', 'U11+ ', 'Wildfire X ', '3', '4a ', '3a XL ',\n",
       "       '3 XL ', '3a ', 'XL ', '2 XL ', '2', 'Quite Black', 'Very Silver',\n",
       "       'W11 ', 'Velvet Dual Screen ', 'Q60 ', 'L90 Dual ', 'W31 ',\n",
       "       'W31 Plus ', 'K42 ', 'W30 Pro ', 'Candy K9 ', 'K9 4G LTE ', 'W10 ',\n",
       "       'K-10 ', 'W41 ', 'Q Stylus+ ', 'W10 Alpha ', 'W30 ', 'W30 Plus ',\n",
       "       'G7+ ThinQ ', 'Stylus 2 ', 'Max X160 ', 'V20 ', 'G8X ',\n",
       "       'V40 ThinQ ', 'K7i ', 'Nexus4 E960', 'G7 ThinQ ', 'Nexus 5X ',\n",
       "       'G5 ', 'Q6+ ', 'Spirit 4G LTE ', 'Velvet ', 'W41 Plus ', 'Wing ',\n",
       "       'W41 Pro ', 'Optimus L70 ', 'L60 Dual ', 'K8 ', 'G Pro 2 ',\n",
       "       'Optimus L5 II ', 'V30+ ', 'G2 D802 ', 'Q Stylus ', 'Q6 ', 'G6 ',\n",
       "       'K10 2017 ', 'V20a ', 'K10 K420DS ', 'Q7 ', 'X Power ',\n",
       "       'Stylus 2 Plus ', 'K-7 ', 'G3 Beat ', 'G8s ThinQ ', 'G4 ',\n",
       "       'Stylus 3 ', 'L Bello ', 'G4 Stylus 4G LTE ', 'X Cam ',\n",
       "       'Optimus L3 II E425 ', 'Optimus L7 II Dual ', 'L 80 Dual ',\n",
       "       'G3 Stylus ', 'Q7+ ', 'X Screen K500I ', 'Spirit ', 'ROG Phone 5 ',\n",
       "       'ROG Phone 3 ', 'Zenfone Max Pro M1 ', 'Zenfone 2 Laser ZE500KL ',\n",
       "       'ZenFone Max M2 ', 'ZenFone 5Z ', '6Z ', 'Zenfone Go 4.5 ',\n",
       "       'Zenfone Go 5.5 ', 'Zenfone Go 3rd Gen', 'Zenfone Go 2nd Gen',\n",
       "       'Zenfone Go ', 'ZenFone Lite L1 ', 'Zenfone 4 Selfie ',\n",
       "       'ROG Phone II ', 'Zenfone GO ', 'Zenfone Go 5.0 ',\n",
       "       'ZenFone Max Pro M2 ', 'Zenfone Go 5.0 LTE 2nd Gen ', 'Zenfone C ',\n",
       "       'Zenfone Go 5.0 LTE ', 'Zenfone Max ZC550KL ', 'Zenfone Max ',\n",
       "       'Zenfone Go 4.5 LTE ', 'ZenFone Max M1 ', 'ROG ',\n",
       "       'Zenfone Selfie ', 'ROG Phone 5 Pro ', 'ROG Phone 5 Ultimate ',\n",
       "       'Zenfone Live ', 'Zenfone Zoom ', 'C11 2021 ', 'Narzo 30 5G ',\n",
       "       'C20 ', 'C21Y ', '8i ', 'C25s ', '8s 5G ', 'C25Y ', 'C21 ',\n",
       "       'Narzo 30 ', 'Narzo 30A ', '8 5G ', '8 Pro ', 'C15 ', '8', 'C12 ',\n",
       "       'C11 ', '7', 'X7 5G ', 'Narzo 30 Pro 5G ', 'C3 ',\n",
       "       'C15 Qualcomm Edition ', '3i ', '5 Pro ', '7i ', 'C2 ',\n",
       "       'X3 SuperZoom ', '6i ', '6', '1', 'X2 ', '5i ', 'X ', 'Narzo 50i ',\n",
       "       'Narzo 50A ', 'X50 Pro 5G ', 'X3 ', 'GT 5G ', 'X50 Pro ',\n",
       "       'X7 Pro 5G ', 'GT Master Edition ', 'C25 ', '7 Pro ',\n",
       "       'Narzo 20 Pro ', 'Narzo 20A ', 'Narzo 20 ', 'Narzo 10A ',\n",
       "       'Narzo 10 ', '6 Pro ', 'U1 ', 'X2 Pro ', '5s ', 'Max ', 'Max Pro ',\n",
       "       'F8 Neo ', 'F103 Pro ', 'F205 Pro ', 'A1 ', 'S11 Lite ', 'F11 ',\n",
       "       'F10 Plus ', 'L800', 'Pioneer P5W ', 'S96', 'L700', 'P5L ',\n",
       "       'Pioneer P3 ', 'P2S ', 'P5 Mini ', 'P5_W ', 'F9 ', 'X-1 ',\n",
       "       'M5 Lite 4G ', 'P7 ', 'A1 Plus ', 'Pioneer P4 ', 'Pioneer P3S ',\n",
       "       'X1s ', 'F10 ', 'F205 ', 'A1 Lite ', 'Elife S7 ',\n",
       "       'Marathon M5 lite CDMA ', 'Marathon ', 'Marathon M3 ', 'M7 Power ',\n",
       "       'S10 Lite ', 'S6S ', 'M3 ', 'S Plus ', 'Elife E8 ', 'F9 Plus ',\n",
       "       'Pioneer P4S ', 'Marathon M5 Lite ', 'P7 Max ', 'M7 ',\n",
       "       'F103 3GB Version ', 'S6 ', 'S6 Pro ', 'F103 ', 'S11 ', 'V4S ',\n",
       "       'Marathon M5 Plus ', 'Ctrl V5 ', 'G3 ', 'F103 3Gb Version ',\n",
       "       'Elife E7 Mini ', 'Ctrl V4S ', 'M2 ', 'Elife S5.1 ', 'Elife E3 ',\n",
       "       'Pioneer P2 ', 'Pioneer P6 ', '105 DS 2020', 'TA-1010/105', '105',\n",
       "       '110 TA-1302 DS', '216 DS', '150 DS 2020', '110 4G',\n",
       "       '150 TA-1235 DS', '6310', '105 SS 2021', 'C01 Plus ', '125 DS',\n",
       "       '5310ds', '3310 DS 2020', '3.4', '125 TA-1253 DS', 'C20 Plus ',\n",
       "       'G20 ', '5.4', 'TA-1174 / TA-1299', '2.4', 'G10 ', '125 DS 2020',\n",
       "       '5310 TA-1212 DS', '216 DS 2020', '215 4G DS 2020', '225 4g ds',\n",
       "       '225 4G DS 2020', '2.3', '215 4G DS', '9', '150', '105 DS', '215',\n",
       "       '130', '108 Dual SIM', '107 Dual SIM', '150/150 DS', '3.2',\n",
       "       '5.1 Plus ', 'Ta -1010/105', '6.1', '2.1', '5', '106', '112',\n",
       "       '3.1', '5.1', '220', '2.2', 'Lumia 920 ', '3.1 Plus ', 'Asha 503 ',\n",
       "       '110', '225', '8110', '8 Sirocco ', 'RM-1172 / Nokia 230 DS',\n",
       "       '5.3', 'Lumia 625 ', '6.1 Plus ', 'Asha 311 ', '8.1', '7.2', '7.1',\n",
       "       '8110 4G', 'X2 Dual SIM ', 'Lumia 510 ', '7 Plus ', 'Asha 206',\n",
       "       '222', '6.2', '4.2', 'Asha 502 ', 'XPlus ', '515', 'iPhone SE ',\n",
       "       'iPhone XR ', 'iPhone 12 Mini ', 'iPhone 13 Pro ', 'iPhone 11 ',\n",
       "       'iPhone 12 ', 'iPhone 13 ', 'iPhone 13 Mini ',\n",
       "       'iPhone 12 Pro Max ', 'iPhone 12 Pro ', 'iPhone 11 Pro Max ',\n",
       "       'iPhone 8 Plus ', 'iPhone 11 Pro ', 'iPhone XS ', 'iPhone 8 ',\n",
       "       'iPhone 13 Pro Max ', 'iPhone 6s Plus ', 'iPhone 6 Plus ',\n",
       "       'iPhone XS Max ', 'iPhone 7 Plus ', 'iPhone 6s ', 'iPhone 7 ',\n",
       "       'iPhone 6 ', 'iPhone X ', 'iPhone 6s', 'Galaxy F22 ',\n",
       "       'Galaxy F12 ', 'M31s ', 'M02s ', 'Guru 1200', 'Galaxy M02 ',\n",
       "       'Galaxy A12 ', 'Galaxy A22 ', 'Galaxy A22 5G ', 'Galaxy M12 ',\n",
       "       'M31 ', 'M21 2021 Edition ', 'Galaxy A21s ', 'GALAXY M31S ',\n",
       "       'M32 5G ', 'Metro 313 Dual Sim', 'Galaxy M31 ',\n",
       "       'Galaxy Z Flip3 5G ', 'Galaxy M01 ', 'Galaxy A03s ',\n",
       "       'Galaxy F02s ', 'Galaxy A72 ', 'Galaxy M31s ', 'Galaxy M32 ',\n",
       "       'Galaxy A51 ', 'Galaxy F62 ', 'Galaxy A52s 5G ',\n",
       "       'Galaxy M21 2021 Edition ', 'Galaxy M11 ', 'Galaxy S10 Lite ',\n",
       "       'Galaxy F41 ', 'Galaxy A52 ', 'Galaxy A32 ', 'S20 FE 5G ',\n",
       "       'Galaxy S10 ', 'M01 core ', 'GALAXY M51 ', 'Galaxy Note 20 ',\n",
       "       'Guru Music 2', 'Galaxy Note10 Lite ', 'Galaxy A71 ',\n",
       "       'Guru FM Plus SM-B110E/D', 'Galaxy A70s ', 'Guru Music 2 SM-B310E',\n",
       "       'Guru FM Plus', 'Galaxy Z Fold3 5G ', 'Galaxy M32 5G ', 'Guru GT',\n",
       "       'Galaxy A50s ', 'Guru Plus B110', 'Galaxy S9 Plus ', 'Metro 313',\n",
       "       'Galaxy A6 ', 'Galaxy A6+ ', 'Galaxy On7 ', 'Galaxy A70 ',\n",
       "       'Galaxy A31 ', 'M21 2021 Edition', 'Galaxy Note 20 Ultra 5G ',\n",
       "       'Galaxy M01s ', 'Metro 350', 'Galaxy A20s ', 'Galaxy J7 Prime ',\n",
       "       'Galaxy S20 FE ', 'Galaxy A30s ', 'Galaxy A7 ', 'Galaxy J2 Core ',\n",
       "       'Galaxy J6 ', 'Galaxy A20 ', 'Galaxy A10s ', 'Galaxy M21 ',\n",
       "       'Galaxy J2 2018 ', 'Galaxy J7 Nxt ', 'Galaxy M30 ', 'Galaxy M42 ',\n",
       "       'Galaxy J7 Duo ', 'Galaxy A9 ', 'Galaxy J6 Plus ',\n",
       "       'Galaxy Fold 2 ', 'Galaxy J7 - 6 New 2016 Edition) ',\n",
       "       'Galaxy S20 Ultra ', 'Galaxy Note 9 ', 'Galaxy A10 ',\n",
       "       'Metro B313E Dual Sim - White', 'Galaxy M40 ', 'Galaxy J2 ',\n",
       "       'Galaxy A50 ', 'B350', 'Galaxy J2-2017 ', 'Galaxy Grand 2 ',\n",
       "       'Galaxy S10 Plus ', 'Galaxy J4 ', 'Galaxy A30 ', 'Galaxy M51 ',\n",
       "       'Galaxy J5 Prime ', 'Galaxy S6 Edge ', 'Sm-B110E/D',\n",
       "       'Galaxy S21 Ultra ', 'Galaxy J8 ', 'Galaxy A7-2017 ',\n",
       "       'Galaxy J4 Plus ', 'Galaxy A8 Plus ', 'Galaxy A80 ',\n",
       "       'Galaxy M30s ', 'Galaxy S5 ', 'Galaxy J7 Prime 2 ',\n",
       "       'Galaxy S21 Plus ', 'SAMSUNG Metro 350 Dual Sim', 'Galaxy S21 ',\n",
       "       'Galaxy M42 5G ', 'Galaxy On8 ', 'Galaxy S20+ ', 'Galaxy A2 Core ',\n",
       "       'Galaxy M10 ', 'M31 Prime ', 'Galaxy Star 2 ', 'B351E/Metro 350',\n",
       "       'Galaxy S9 ', 'Galaxy A7 2016 Edition ', 'Metro XL', 'Z2 ',\n",
       "       'Galaxy M10S ', 'Galaxy J1 Ace ', 'Z1 ', 'Galaxy M20 ',\n",
       "       'Galaxy J5 ', 'Galaxy On6 ', 'Galaxy Note 5 ', 'Galaxy S4 Mini ',\n",
       "       'Galaxy A9 Pro ', 'Galaxy J2 - 2016 ', 'Galaxy J2 Pro ',\n",
       "       'Galaxy Note 10 Plus ', 'Galaxy S8 ', 'Z4 ',\n",
       "       'Galaxy Star Advance ', 'Galaxy J1 ', 'Galaxy S20 ',\n",
       "       'Galaxy Z Flip ', 'Galaxy Alpha ',\n",
       "       'Galaxy Core Prime G361 Dual Sim - White ', 'Metro', 'Galaxy E7 ',\n",
       "       'Galaxy Note 8 ', 'Galaxy A5-2017 ', 'Tizen Z3 ', 'Galaxy On Nxt ',\n",
       "       'Galaxy M30S ', 'Galaxy J2 Ace ', 'Galaxy S4 ', 'Galaxy Note 3 ',\n",
       "       'Galaxy S Duos 3 ', 'Galaxy A3 ', 'Galaxy Note 3 Neo ',\n",
       "       'Galaxy A8 ', 'Metro B312E Dual Sim - White',\n",
       "       'Galaxy A5 2016 Edition ', 'Galaxy J7 ', 'Galaxy Core ',\n",
       "       'Metro SM-B313ez', 'Galaxy Note 10 ', 'Galaxy Grand Neo ',\n",
       "       'Galaxy Note 4 ', 'On7 Pro ', 'Galaxy S10e ', 'Galaxy S7 Edge ',\n",
       "       'Galaxy A8 Star ', 'Galaxy S3 Neo ', 'Galaxy C7 Pro ',\n",
       "       'GT 1200 R/I/M', 'Galaxy Folder 2 ', 'SM-B310EZDDINS',\n",
       "       'Galaxy J5 - 6 New 2016 Edition) ', 'Metro 360', 'Z3 ',\n",
       "       'Grand Prime 4G ', 'Galaxy Ace NXT ', 'Fold 2 5G ',\n",
       "       'Galaxy Core Prime ', 'On5 Pro ', 'Galaxy A5 ', 'Guru E1207T',\n",
       "       'Galaxy Star ', 'Galaxy Grand Neo Plus ', 'Galaxy Note Edge ',\n",
       "       'Galaxy S6 ', 'Grand Prime ', 'Galaxy S8 Plus ', 'Rex 60',\n",
       "       'Galaxy S7 ', 'Galaxy E5 ', 'Galaxy Star Pro ', 'Galaxy Trend ',\n",
       "       'Sm-G361Hhadins ', 'Galaxy Grand Quattro ', 'Galaxy Grand I9082 ',\n",
       "       'Galaxy Mega 5.8 ', 'Galaxy Note 5 Dual ', 'GURU FM PLUS',\n",
       "       'Galaxy Core 2 ', 'Galaxy Pocket Neo ', 'Galaxy S Duos 2 ',\n",
       "       'Galaxy S4 Zoom ', 'Galaxy Grand Prime 4g ', 'S7 Edge ',\n",
       "       'Galaxy S6 Edge+ ', 'A6600d40 ', 'K8 Plus ', 'K3 Note ', 'S930 ',\n",
       "       'A269i ', 'A7 ', 'A5 ', 'A2010 ', 'Vibe Shot ', 'A7700 ',\n",
       "       'K8 Note ', 'K9 ', 'VIBE P1m ', 'Z2 Plus ', 'Vibe K5 Note ', 'B ',\n",
       "       'S850 ', 'A6600 ', 'A5000 ', 'A6600 Plus ', 'A536 ', 'A7000 ',\n",
       "       'K10 Note ', 'A7000 Turbo ', 'Vibe K5 Plus ', 'K6 Note ',\n",
       "       'K6 Power ', 'X2-AP ', 'K10 Plus ', 'P770 ', 'VIBE P1 ',\n",
       "       'K4 Note ', 'S660 ', 'Vibe Z2 Pro ', 'K9 Note ', 'P780 ', 'A850 ',\n",
       "       'A390 ', 'P2 ', 'A328 ', 'A6 Note ', 'Vibe P1 Turbo ', 'A1000 ',\n",
       "       'A6000 Plus ', 'S560 ', 'Sisley S60 ', 'P70 ', 'A319 ',\n",
       "       'S90 Or Sisley S90 ', 'A6000 Shot ', 'Vibe S1 ', 'K6 POWER ',\n",
       "       'K3 Note Music ', 'ZUK Z1 ', 'E7 Power ', 'Edge 20 Fusion ',\n",
       "       'G10 Power ', 'G60 ', 'G40 Fusion ', '2nd Generation ', 'Edge 20 ',\n",
       "       'G8 Power Lite ', 'X4', 'Razr 5G ', 'E5', 'Razr ', 'X Play',\n",
       "       'C Plus', 'G6', 'M', 'One Vision ', 'G30 ', 'G5', 'G9 Power ',\n",
       "       'G 2nd Generation ', 'One Fusion+ ', 'G9 ', 'E7 Plus ',\n",
       "       'One Action ', 'E 2nd Gen 3G ', 'E6s', 'C', 'E5 Plus', 'Edge+ ',\n",
       "       'G 3rd Generation ', 'One Macro ', 'G5s', 'X 2nd Generation ',\n",
       "       'G7', 'One', 'Z2 Play', 'One Power ', 'Quench X T3', 'G8 Plus',\n",
       "       'G', 'G6 Play', 'XT502', 'G6 Plus ', 'G4 Plus', 'G7 Power', 'G4',\n",
       "       'Z Play', 'G5 Plus', 'Z2 Force', 'X3 Pro ', 'M3 Pro 5G ',\n",
       "       'M2 Reloaded ', 'Y20G ', 'Y21 ', 'Y20A 2021 ', 'Y33s ', 'Y20A ',\n",
       "       'Y12s ', 'Y20G 2021 ', 'Y73 ', 'Y1s ', 'Y12G ', 'Y51A ', 'Y1S ',\n",
       "       'Y72 5G ', 'V21e ', 'Y20 ', 'V20 SE ', 'Y11 ', 'Y53s ', 'X60 ',\n",
       "       'V20 2021 ', 'V21 5G ', 'Y91i ', 'Y31 ', 'Y30 ', 'V20 Pro ',\n",
       "       'Mi 10 ', 'Mi 10i ', 'Mi 10T ', 'Mi 11 Lite ', 'Mi 11X ',\n",
       "       'MI 11X 5G ', 'Mi 11X Pro 5G ', 'Mi A2 ', 'Mi A3 ', 'Mi Max 2 ',\n",
       "       'MI3 ', 'Redmi 5 ', 'Redmi 6 ', 'Redmi 6 Pro ', 'Redmi 6A ',\n",
       "       'Redmi 7 ', 'Redmi 7A ', 'Redmi 8 ', 'Redmi 8A ', 'Redmi 8A Dual ',\n",
       "       'Redmi 9 ', 'REDMI 9 Power ', 'REDMI 9 Prime ', 'Redmi 9A ',\n",
       "       'REDMI 9i ', 'Redmi K20 ', 'Redmi K20 Pro ', 'REDMI Note 10 Pro ',\n",
       "       'REDMI Note 10S ', 'Redmi Note 4 ', 'Redmi Note 5 ',\n",
       "       'Redmi Note 5 Pro ', 'Redmi Note 6 Pro ', 'Redmi Note 7 ',\n",
       "       'Redmi Note 7 Pro ', 'Redmi Note 7S ', 'Redmi Note 8 ',\n",
       "       'REDMI Note 9 ', 'Redmi Note 9 Pro ', 'Redmi Y1 ', 'Redmi Y2 ',\n",
       "       'Redmi Y3 ', 'U11', 'U Ultra', 'Desire 630', '10', '628',\n",
       "       'Desire 626', 'Desire 828', 'Desire 826 DS', '820 G+',\n",
       "       'Desire 326G DS', 'One E9+', '626G Plus', '826', '526G Plus',\n",
       "       '820S', 'Desire 820', 'Desire 526G Plus', '816G', '620G',\n",
       "       'Desire 816G', 'Desire 616', 'Desire 516', 'One M8 ',\n",
       "       'Desire 816  ', 'Desire 210', 'Desire 700', 'One 802D', 'XR 20',\n",
       "       'A55', 'F3 GT', 'M2 Pro', 'M2  ', 'X2', 'X2 Special Edition', '9i',\n",
       "       'GT Neo 2', 'X7 Max', 'Galaxy F42 5G ', 'Y21A', 'Y33T', 'Y21T',\n",
       "       'V23 5G', 'V23 Pro 5G', 'Y20 T', 'X70 Pro+', 'X70 Pro ', 'X60 Pro',\n",
       "       'X50 Pro', 'X50  ', 'U10', 'U12', 'S1', 'Z1x', 'S2', 'Z1 Pro',\n",
       "       'Y90', 'Y93', 'Y94', 'Y95', 'Y83', 'V9', 'X21', 'V9 Youth', 'V7+',\n",
       "       'Y69', 'Y83 Pro', 'V11 Pro', 'Y71i', 'V7  ', 'Y11T Pro', '11i 5G',\n",
       "       '11i Hypercharge 5G', 'Redmi Note 11T 5G', 'Note 10 lite',\n",
       "       '9A Sport', '11 Lite NE', 'Hot 10 Play', 'Hot 11S', 'Hot 11',\n",
       "       'Hot 10S', 'Smart 5', 'Smart 6', 'Smart 7', 'Smart 8', 'Note 11 ',\n",
       "       'Smart 5A', 'Smart HD 2021', 'Note 11S', 'Note 11', 'Note 10 Pro',\n",
       "       'Note 11S Free Fire Edition', 'Smart 4', 'Note 5', 'Smart 2',\n",
       "       'Hot 6 Pro', 'Hot 8', 'Smart 3 Plus', 'Note 5 Stylus', 'S5 Pro',\n",
       "       'S4', 'Note 7', 'Zero 8i', 'Hot 10', 'Smart 4 Plus', 'Note 10',\n",
       "       'Hot 9', 'Hot 9 Pro', 'Hot S3X', 'Note 4', 'Hot S3', 'S5 Lite',\n",
       "       'Hot 4 Pro', 'S5 ', 'Hot 7', 'Zero 5', 'Zero 5 Pro', 'Hot 7 Pro',\n",
       "       'Reno7 Pro 5G', 'C31', 'T1 5G', 'Reno7 5G', 'A16k', 'ROG 5s',\n",
       "       'ROG 5s Pro', 'iPhone 13 Pro Max', 'iPhone 13 Pro',\n",
       "       'iPhone 13 mini', 'Y75 5G', '9 5G', '9 Pro 5G', '9 Pro+ 5G',\n",
       "       '9 5G SE', 'C35', 'M4 Pro', 'M4 Pro 5G', 'Galaxy S21 SE 5G',\n",
       "       'Galaxy F23 5G', 'Galaxy A03 Core', 'M52 5G'], dtype=object)"
      ]
     },
     "execution_count": 10,
     "metadata": {},
     "output_type": "execute_result"
    }
   ],
   "source": [
    "df['Model'].unique()"
   ]
  },
  {
   "cell_type": "code",
   "execution_count": 11,
   "id": "7a27fc09",
   "metadata": {},
   "outputs": [
    {
     "data": {
      "text/plain": [
       "array(['OPPO', 'HTC', 'IQOO', 'Google Pixel', 'LG', 'ASUS', 'realme',\n",
       "       'GIONEE', 'Nokia', 'Apple', 'SAMSUNG', 'Lenovo', 'Motorola',\n",
       "       'POCO', 'vivo', 'Xiaomi', 'Infinix'], dtype=object)"
      ]
     },
     "execution_count": 11,
     "metadata": {},
     "output_type": "execute_result"
    }
   ],
   "source": [
    "df['Brand'].unique()"
   ]
  },
  {
   "cell_type": "code",
   "execution_count": 12,
   "id": "4ab6f92b",
   "metadata": {},
   "outputs": [
    {
     "data": {
      "text/plain": [
       "array(['64 GB', '128 GB', '32 GB', '256 GB', '16 GB', '8 GB', '4 GB',\n",
       "       '512 GB', nan, '16 MB', '128 MB', '2 MB', '4 MB', '48 MB', '8 MB',\n",
       "       'Expandable Upto 32 GB', 'Expandable Upto 16 GB', '10 MB',\n",
       "       '256 MB', '140 MB', '64 MB', '1 TB', '153 MB', '512 MB', '100 MB',\n",
       "       '129 GB', '130 GB'], dtype=object)"
      ]
     },
     "execution_count": 12,
     "metadata": {},
     "output_type": "execute_result"
    }
   ],
   "source": [
    "df['Storage'].unique()"
   ]
  },
  {
   "cell_type": "code",
   "execution_count": 13,
   "id": "ec74e6b7",
   "metadata": {},
   "outputs": [
    {
     "data": {
      "text/plain": [
       "array([4.5, 4.3, 4.4, 4.2, nan, 4. , 4.6, 3.8, 3. , 4.1, 3.7, 3.1, 4.7,\n",
       "       3.9, 3.4, 3.3, 3.6, 3.5, 3.2, 2.7, 2.8, 5. , 2.4, 2.3, 4.9, 4.8])"
      ]
     },
     "execution_count": 13,
     "metadata": {},
     "output_type": "execute_result"
    }
   ],
   "source": [
    "df['Rating'].unique()"
   ]
  },
  {
   "cell_type": "code",
   "execution_count": 14,
   "id": "86145118",
   "metadata": {},
   "outputs": [],
   "source": [
    "df = df[df['Rating']!=\"nan\"]"
   ]
  },
  {
   "cell_type": "code",
   "execution_count": 15,
   "id": "4dcf3c0b",
   "metadata": {},
   "outputs": [
    {
     "data": {
      "text/plain": [
       "array([4.5, 4.3, 4.4, 4.2, nan, 4. , 4.6, 3.8, 3. , 4.1, 3.7, 3.1, 4.7,\n",
       "       3.9, 3.4, 3.3, 3.6, 3.5, 3.2, 2.7, 2.8, 5. , 2.4, 2.3, 4.9, 4.8])"
      ]
     },
     "execution_count": 15,
     "metadata": {},
     "output_type": "execute_result"
    }
   ],
   "source": [
    "df['Rating'].unique()"
   ]
  },
  {
   "cell_type": "code",
   "execution_count": 16,
   "id": "1dab9cbb",
   "metadata": {},
   "outputs": [
    {
     "name": "stdout",
     "output_type": "stream",
     "text": [
      "<class 'pandas.core.frame.DataFrame'>\n",
      "Int64Index: 3114 entries, 0 to 3113\n",
      "Data columns (total 8 columns):\n",
      " #   Column          Non-Null Count  Dtype  \n",
      "---  ------          --------------  -----  \n",
      " 0   Brand           3114 non-null   object \n",
      " 1   Model           3114 non-null   object \n",
      " 2   Color           3114 non-null   object \n",
      " 3   Memory          3071 non-null   object \n",
      " 4   Storage         3075 non-null   object \n",
      " 5   Rating          2970 non-null   float64\n",
      " 6   Selling Price   3114 non-null   int64  \n",
      " 7   Original Price  3114 non-null   int64  \n",
      "dtypes: float64(1), int64(2), object(5)\n",
      "memory usage: 219.0+ KB\n"
     ]
    }
   ],
   "source": [
    "df.info()"
   ]
  },
  {
   "cell_type": "code",
   "execution_count": 17,
   "id": "948e494a",
   "metadata": {},
   "outputs": [],
   "source": [
    "df=df[~df['Rating'].isna()]"
   ]
  },
  {
   "cell_type": "code",
   "execution_count": 18,
   "id": "96a972e2",
   "metadata": {},
   "outputs": [
    {
     "name": "stdout",
     "output_type": "stream",
     "text": [
      "<class 'pandas.core.frame.DataFrame'>\n",
      "Int64Index: 2970 entries, 0 to 3113\n",
      "Data columns (total 8 columns):\n",
      " #   Column          Non-Null Count  Dtype  \n",
      "---  ------          --------------  -----  \n",
      " 0   Brand           2970 non-null   object \n",
      " 1   Model           2970 non-null   object \n",
      " 2   Color           2970 non-null   object \n",
      " 3   Memory          2928 non-null   object \n",
      " 4   Storage         2939 non-null   object \n",
      " 5   Rating          2970 non-null   float64\n",
      " 6   Selling Price   2970 non-null   int64  \n",
      " 7   Original Price  2970 non-null   int64  \n",
      "dtypes: float64(1), int64(2), object(5)\n",
      "memory usage: 208.8+ KB\n"
     ]
    }
   ],
   "source": [
    "df.info()"
   ]
  },
  {
   "cell_type": "code",
   "execution_count": 19,
   "id": "15718268",
   "metadata": {},
   "outputs": [],
   "source": [
    "df=df.reset_index(drop=True)"
   ]
  },
  {
   "cell_type": "code",
   "execution_count": 20,
   "id": "49ec8699",
   "metadata": {},
   "outputs": [
    {
     "data": {
      "text/html": [
       "<div>\n",
       "<style scoped>\n",
       "    .dataframe tbody tr th:only-of-type {\n",
       "        vertical-align: middle;\n",
       "    }\n",
       "\n",
       "    .dataframe tbody tr th {\n",
       "        vertical-align: top;\n",
       "    }\n",
       "\n",
       "    .dataframe thead th {\n",
       "        text-align: right;\n",
       "    }\n",
       "</style>\n",
       "<table border=\"1\" class=\"dataframe\">\n",
       "  <thead>\n",
       "    <tr style=\"text-align: right;\">\n",
       "      <th></th>\n",
       "      <th>Rating</th>\n",
       "      <th>Selling Price</th>\n",
       "      <th>Original Price</th>\n",
       "    </tr>\n",
       "  </thead>\n",
       "  <tbody>\n",
       "    <tr>\n",
       "      <th>count</th>\n",
       "      <td>2970.000000</td>\n",
       "      <td>2970.000000</td>\n",
       "      <td>2970.000000</td>\n",
       "    </tr>\n",
       "    <tr>\n",
       "      <th>mean</th>\n",
       "      <td>4.243098</td>\n",
       "      <td>24891.598316</td>\n",
       "      <td>26826.261616</td>\n",
       "    </tr>\n",
       "    <tr>\n",
       "      <th>std</th>\n",
       "      <td>0.271991</td>\n",
       "      <td>27103.698397</td>\n",
       "      <td>28877.509081</td>\n",
       "    </tr>\n",
       "    <tr>\n",
       "      <th>min</th>\n",
       "      <td>2.300000</td>\n",
       "      <td>1000.000000</td>\n",
       "      <td>1000.000000</td>\n",
       "    </tr>\n",
       "    <tr>\n",
       "      <th>25%</th>\n",
       "      <td>4.100000</td>\n",
       "      <td>9989.250000</td>\n",
       "      <td>10000.000000</td>\n",
       "    </tr>\n",
       "    <tr>\n",
       "      <th>50%</th>\n",
       "      <td>4.300000</td>\n",
       "      <td>14999.000000</td>\n",
       "      <td>15999.000000</td>\n",
       "    </tr>\n",
       "    <tr>\n",
       "      <th>75%</th>\n",
       "      <td>4.400000</td>\n",
       "      <td>27499.000000</td>\n",
       "      <td>29999.000000</td>\n",
       "    </tr>\n",
       "    <tr>\n",
       "      <th>max</th>\n",
       "      <td>5.000000</td>\n",
       "      <td>179900.000000</td>\n",
       "      <td>189999.000000</td>\n",
       "    </tr>\n",
       "  </tbody>\n",
       "</table>\n",
       "</div>"
      ],
      "text/plain": [
       "            Rating  Selling Price  Original Price\n",
       "count  2970.000000    2970.000000     2970.000000\n",
       "mean      4.243098   24891.598316    26826.261616\n",
       "std       0.271991   27103.698397    28877.509081\n",
       "min       2.300000    1000.000000     1000.000000\n",
       "25%       4.100000    9989.250000    10000.000000\n",
       "50%       4.300000   14999.000000    15999.000000\n",
       "75%       4.400000   27499.000000    29999.000000\n",
       "max       5.000000  179900.000000   189999.000000"
      ]
     },
     "execution_count": 20,
     "metadata": {},
     "output_type": "execute_result"
    }
   ],
   "source": [
    "df.describe()"
   ]
  },
  {
   "cell_type": "code",
   "execution_count": 21,
   "id": "54402702",
   "metadata": {},
   "outputs": [
    {
     "data": {
      "text/html": [
       "<div>\n",
       "<style scoped>\n",
       "    .dataframe tbody tr th:only-of-type {\n",
       "        vertical-align: middle;\n",
       "    }\n",
       "\n",
       "    .dataframe tbody tr th {\n",
       "        vertical-align: top;\n",
       "    }\n",
       "\n",
       "    .dataframe thead th {\n",
       "        text-align: right;\n",
       "    }\n",
       "</style>\n",
       "<table border=\"1\" class=\"dataframe\">\n",
       "  <thead>\n",
       "    <tr style=\"text-align: right;\">\n",
       "      <th></th>\n",
       "      <th>Brand</th>\n",
       "      <th>Model</th>\n",
       "      <th>Color</th>\n",
       "      <th>Memory</th>\n",
       "      <th>Storage</th>\n",
       "      <th>Rating</th>\n",
       "      <th>Selling Price</th>\n",
       "      <th>Original Price</th>\n",
       "    </tr>\n",
       "  </thead>\n",
       "  <tbody>\n",
       "    <tr>\n",
       "      <th>1106</th>\n",
       "      <td>Apple</td>\n",
       "      <td>iPhone 12 Pro Max</td>\n",
       "      <td>Silver</td>\n",
       "      <td>NaN</td>\n",
       "      <td>512 GB</td>\n",
       "      <td>4.6</td>\n",
       "      <td>149900</td>\n",
       "      <td>149900</td>\n",
       "    </tr>\n",
       "    <tr>\n",
       "      <th>1119</th>\n",
       "      <td>Apple</td>\n",
       "      <td>iPhone 12 Pro</td>\n",
       "      <td>Pacific Blue</td>\n",
       "      <td>6 GB</td>\n",
       "      <td>256 GB</td>\n",
       "      <td>4.6</td>\n",
       "      <td>119900</td>\n",
       "      <td>119900</td>\n",
       "    </tr>\n",
       "    <tr>\n",
       "      <th>1123</th>\n",
       "      <td>Apple</td>\n",
       "      <td>iPhone 11 Pro Max</td>\n",
       "      <td>Midnight Green</td>\n",
       "      <td>4GB</td>\n",
       "      <td>64 GB</td>\n",
       "      <td>4.7</td>\n",
       "      <td>117100</td>\n",
       "      <td>117100</td>\n",
       "    </tr>\n",
       "    <tr>\n",
       "      <th>1125</th>\n",
       "      <td>Apple</td>\n",
       "      <td>iPhone 12 Pro</td>\n",
       "      <td>Gold</td>\n",
       "      <td>6 GB</td>\n",
       "      <td>128 GB</td>\n",
       "      <td>4.6</td>\n",
       "      <td>109900</td>\n",
       "      <td>109900</td>\n",
       "    </tr>\n",
       "    <tr>\n",
       "      <th>1126</th>\n",
       "      <td>Apple</td>\n",
       "      <td>iPhone 12 Pro</td>\n",
       "      <td>Gold</td>\n",
       "      <td>6 GB</td>\n",
       "      <td>512 GB</td>\n",
       "      <td>4.6</td>\n",
       "      <td>139900</td>\n",
       "      <td>139900</td>\n",
       "    </tr>\n",
       "    <tr>\n",
       "      <th>...</th>\n",
       "      <td>...</td>\n",
       "      <td>...</td>\n",
       "      <td>...</td>\n",
       "      <td>...</td>\n",
       "      <td>...</td>\n",
       "      <td>...</td>\n",
       "      <td>...</td>\n",
       "      <td>...</td>\n",
       "    </tr>\n",
       "    <tr>\n",
       "      <th>2910</th>\n",
       "      <td>Apple</td>\n",
       "      <td>iPhone 13 Pro Max</td>\n",
       "      <td>Silver</td>\n",
       "      <td>4GB</td>\n",
       "      <td>256 GB</td>\n",
       "      <td>4.7</td>\n",
       "      <td>139900</td>\n",
       "      <td>139900</td>\n",
       "    </tr>\n",
       "    <tr>\n",
       "      <th>2911</th>\n",
       "      <td>Apple</td>\n",
       "      <td>iPhone 13 Pro Max</td>\n",
       "      <td>Sierra Blue</td>\n",
       "      <td>4GB</td>\n",
       "      <td>512 GB</td>\n",
       "      <td>4.7</td>\n",
       "      <td>159900</td>\n",
       "      <td>159900</td>\n",
       "    </tr>\n",
       "    <tr>\n",
       "      <th>2912</th>\n",
       "      <td>Apple</td>\n",
       "      <td>iPhone 13 Pro Max</td>\n",
       "      <td>Gold</td>\n",
       "      <td>4GB</td>\n",
       "      <td>512 GB</td>\n",
       "      <td>4.7</td>\n",
       "      <td>159900</td>\n",
       "      <td>159900</td>\n",
       "    </tr>\n",
       "    <tr>\n",
       "      <th>2913</th>\n",
       "      <td>Apple</td>\n",
       "      <td>iPhone 13 Pro Max</td>\n",
       "      <td>Graphite</td>\n",
       "      <td>4GB</td>\n",
       "      <td>1 TB</td>\n",
       "      <td>4.7</td>\n",
       "      <td>179900</td>\n",
       "      <td>179900</td>\n",
       "    </tr>\n",
       "    <tr>\n",
       "      <th>2914</th>\n",
       "      <td>Apple</td>\n",
       "      <td>iPhone 13 Pro Max</td>\n",
       "      <td>Sierra Blue</td>\n",
       "      <td>4GB</td>\n",
       "      <td>1 TB</td>\n",
       "      <td>4.7</td>\n",
       "      <td>179900</td>\n",
       "      <td>179900</td>\n",
       "    </tr>\n",
       "  </tbody>\n",
       "</table>\n",
       "<p>90 rows × 8 columns</p>\n",
       "</div>"
      ],
      "text/plain": [
       "      Brand               Model           Color Memory Storage  Rating  \\\n",
       "1106  Apple  iPhone 12 Pro Max           Silver    NaN  512 GB     4.6   \n",
       "1119  Apple      iPhone 12 Pro     Pacific Blue   6 GB  256 GB     4.6   \n",
       "1123  Apple  iPhone 11 Pro Max   Midnight Green    4GB   64 GB     4.7   \n",
       "1125  Apple      iPhone 12 Pro             Gold   6 GB  128 GB     4.6   \n",
       "1126  Apple      iPhone 12 Pro             Gold   6 GB  512 GB     4.6   \n",
       "...     ...                 ...             ...    ...     ...     ...   \n",
       "2910  Apple   iPhone 13 Pro Max          Silver    4GB  256 GB     4.7   \n",
       "2911  Apple   iPhone 13 Pro Max     Sierra Blue    4GB  512 GB     4.7   \n",
       "2912  Apple   iPhone 13 Pro Max            Gold    4GB  512 GB     4.7   \n",
       "2913  Apple   iPhone 13 Pro Max        Graphite    4GB    1 TB     4.7   \n",
       "2914  Apple   iPhone 13 Pro Max     Sierra Blue    4GB    1 TB     4.7   \n",
       "\n",
       "      Selling Price  Original Price  \n",
       "1106         149900          149900  \n",
       "1119         119900          119900  \n",
       "1123         117100          117100  \n",
       "1125         109900          109900  \n",
       "1126         139900          139900  \n",
       "...             ...             ...  \n",
       "2910         139900          139900  \n",
       "2911         159900          159900  \n",
       "2912         159900          159900  \n",
       "2913         179900          179900  \n",
       "2914         179900          179900  \n",
       "\n",
       "[90 rows x 8 columns]"
      ]
     },
     "execution_count": 21,
     "metadata": {},
     "output_type": "execute_result"
    }
   ],
   "source": [
    "df[df['Selling Price']>100000]"
   ]
  },
  {
   "cell_type": "code",
   "execution_count": 22,
   "id": "694fe945",
   "metadata": {},
   "outputs": [],
   "source": [
    "df.to_csv('clean_mobile.csv')"
   ]
  },
  {
   "cell_type": "code",
   "execution_count": 23,
   "id": "d8af67e2",
   "metadata": {},
   "outputs": [],
   "source": [
    "x= df.drop(columns='Selling Price')\n",
    "y=df['Selling Price']"
   ]
  },
  {
   "cell_type": "code",
   "execution_count": 24,
   "id": "8ab84a87",
   "metadata": {},
   "outputs": [],
   "source": [
    "from sklearn.model_selection import train_test_split\n",
    "x_train,x_test,y_train,y_test=train_test_split(x,y, test_size=0.2)"
   ]
  },
  {
   "cell_type": "code",
   "execution_count": 25,
   "id": "4af99b4c",
   "metadata": {},
   "outputs": [],
   "source": [
    "from sklearn.linear_model import LinearRegression\n",
    "from sklearn.metrics import r2_score\n",
    "from sklearn.preprocessing import OneHotEncoder\n",
    "from sklearn.compose import make_column_transformer\n",
    "from sklearn.pipeline import make_pipeline"
   ]
  },
  {
   "cell_type": "code",
   "execution_count": 26,
   "id": "770663a4",
   "metadata": {},
   "outputs": [
    {
     "data": {
      "text/plain": [
       "OneHotEncoder(handle_unknown='ignore')"
      ]
     },
     "execution_count": 26,
     "metadata": {},
     "output_type": "execute_result"
    }
   ],
   "source": [
    "ohe= OneHotEncoder(handle_unknown='ignore')\n",
    "ohe.fit(x[['Brand','Model','Color','Memory','Storage','Rating','Original Price']])"
   ]
  },
  {
   "cell_type": "code",
   "execution_count": 27,
   "id": "2f4eca3f",
   "metadata": {},
   "outputs": [],
   "source": [
    "column_trans =make_column_transformer((OneHotEncoder(categories=ohe.categories_),['Brand','Model','Color','Memory','Storage','Rating','Original Price']),\n",
    "                                     remainder='passthrough')"
   ]
  },
  {
   "cell_type": "code",
   "execution_count": 28,
   "id": "65b36d36",
   "metadata": {},
   "outputs": [],
   "source": [
    "lr=LinearRegression()"
   ]
  },
  {
   "cell_type": "code",
   "execution_count": 29,
   "id": "8263f2fe",
   "metadata": {},
   "outputs": [],
   "source": [
    "pipe =make_pipeline(column_trans,lr)"
   ]
  },
  {
   "cell_type": "code",
   "execution_count": 30,
   "id": "6a78f863",
   "metadata": {},
   "outputs": [
    {
     "data": {
      "text/plain": [
       "Pipeline(steps=[('columntransformer',\n",
       "                 ColumnTransformer(remainder='passthrough',\n",
       "                                   transformers=[('onehotencoder',\n",
       "                                                  OneHotEncoder(categories=[array(['ASUS', 'Apple', 'GIONEE', 'Google Pixel', 'HTC', 'IQOO',\n",
       "       'Infinix', 'LG', 'Lenovo', 'Motorola', 'Nokia', 'OPPO', 'POCO',\n",
       "       'SAMSUNG', 'Xiaomi', 'realme', 'vivo'], dtype=object),\n",
       "                                                                            array(['1', '10', '105', '105 DS', '105 DS 2020', '105 SS 2...\n",
       "        95000,  95999,  99900,  99999, 100999, 103000, 103900, 104999,\n",
       "       106600, 106900, 109900, 116000, 117100, 117990, 119900, 121300,\n",
       "       124900, 128999, 129900, 131900, 134900, 139900, 139999, 140300,\n",
       "       144900, 149900, 149999, 150800, 159900, 169900, 171999, 179900,\n",
       "       179999, 189999], dtype=int64)]),\n",
       "                                                  ['Brand', 'Model', 'Color',\n",
       "                                                   'Memory', 'Storage',\n",
       "                                                   'Rating',\n",
       "                                                   'Original Price'])])),\n",
       "                ('linearregression', LinearRegression())])"
      ]
     },
     "execution_count": 30,
     "metadata": {},
     "output_type": "execute_result"
    }
   ],
   "source": [
    "pipe.fit(x_train,y_train)"
   ]
  },
  {
   "cell_type": "code",
   "execution_count": 31,
   "id": "6248c32f",
   "metadata": {},
   "outputs": [],
   "source": [
    "y_pred= pipe.predict(x_test)\n"
   ]
  },
  {
   "cell_type": "code",
   "execution_count": 32,
   "id": "ba7de391",
   "metadata": {},
   "outputs": [
    {
     "data": {
      "text/plain": [
       "array([ 5.47226422e+04,  1.73386124e+04,  8.77159636e+03,  1.06178871e+04,\n",
       "        4.14042620e+04,  7.57019238e+03,  2.51123343e+04,  1.17299963e+04,\n",
       "        6.00217105e+03,  9.09879489e+03,  2.28050618e+04,  2.83397789e+04,\n",
       "        1.80694048e+04,  1.09876838e+04,  2.31547906e+04,  3.78945823e+04,\n",
       "        3.00826834e+04,  5.80538125e+03,  1.48009409e+04,  4.24942283e+04,\n",
       "        1.10535811e+04,  2.07426177e+04,  2.81332816e+04,  7.87767387e+03,\n",
       "        4.17013949e+03,  1.31351918e+04,  1.33795136e+04,  8.65628941e+03,\n",
       "        2.22014469e+04,  6.65755822e+03,  1.59948828e+05,  7.10897558e+03,\n",
       "        2.45880269e+04,  1.83973851e+04,  4.29699142e+04,  1.65960043e+04,\n",
       "        2.19808878e+04,  3.79989943e+04,  7.21112453e+04,  1.13146160e+04,\n",
       "        6.39999641e+03,  1.09231395e+04,  1.84990009e+04,  2.70399765e+04,\n",
       "        2.65766037e+04,  9.29043815e+03,  3.14675187e+04,  1.04418957e+04,\n",
       "        1.53481328e+04,  3.30558400e+04,  6.44684733e+04,  4.08211569e+04,\n",
       "        2.32396487e+04,  1.00987951e+04,  5.44314349e+03,  2.76422049e+04,\n",
       "        1.54314620e+04,  1.10741455e+04,  2.65854173e+04,  1.84629527e+04,\n",
       "        1.01308578e+04,  1.32106427e+04,  1.28026309e+04,  3.13087313e+04,\n",
       "        4.81547803e+04,  9.17966975e+03,  1.51884634e+04,  7.66817757e+03,\n",
       "        5.05560277e+04,  1.66297230e+04,  7.46257083e+03,  1.30103149e+04,\n",
       "        1.87513055e+04,  2.52742752e+04,  7.04813293e+04,  4.67538223e+03,\n",
       "        2.81272119e+04,  1.29768221e+04,  1.61058536e+04,  1.92931676e+04,\n",
       "        1.78047181e+04,  1.59621705e+05,  4.93780235e+04,  2.23118816e+03,\n",
       "       -3.56095570e+03,  2.19398745e+04,  1.33213778e+04,  2.48851927e+04,\n",
       "        7.83356687e+03,  1.57183863e+04,  1.95786302e+04,  1.08968070e+04,\n",
       "        8.34327712e+03,  1.49966367e+05,  1.33153215e+04,  2.30573503e+04,\n",
       "       -9.56649797e+01,  2.02034089e+04,  1.79832111e+04,  1.17740676e+05,\n",
       "        5.34550478e+03,  5.99697002e+04,  1.96695191e+04,  1.41008749e+04,\n",
       "        1.04826149e+04,  1.59990031e+04,  1.48467749e+04,  1.99189016e+04,\n",
       "        1.16867990e+04,  1.85706765e+04,  6.88329153e+03,  1.11877549e+04,\n",
       "        2.08682273e+04,  1.26551075e+04,  1.88273748e+04,  1.81012006e+04,\n",
       "        1.10577600e+05,  1.17878251e+05,  9.46838837e+03, -2.28452460e+02,\n",
       "        4.93022605e+04,  1.27067533e+04,  2.23962761e+04,  7.14701769e+03,\n",
       "        8.74906970e+03,  7.39494131e+03,  3.17041369e+04,  2.02954267e+04,\n",
       "        6.37031304e+03,  7.10680399e+03,  7.78867684e+03,  1.86427205e+04,\n",
       "        7.78980982e+04,  2.15548899e+04,  9.64355893e+03,  3.33881337e+04,\n",
       "        1.43488141e+04,  2.17920524e+04,  1.51875730e+04,  1.18571972e+04,\n",
       "        7.90816843e+04,  1.12235283e+04,  2.48297176e+04,  5.64679820e+04,\n",
       "        1.09389839e+04,  2.24968308e+04,  8.22576910e+03,  1.05184270e+04,\n",
       "        1.11081681e+04,  1.16017035e+04,  1.55778830e+04,  2.05193703e+04,\n",
       "        1.75780045e+04,  5.48520003e+04,  3.55189273e+03,  4.28517310e+04,\n",
       "        1.54895282e+04,  1.27092646e+04,  7.14487229e+04,  4.94650839e+04,\n",
       "        1.58580232e+04,  1.45540678e+05,  6.05132513e+04,  1.35354439e+04,\n",
       "        6.18977062e+04,  1.42769664e+04,  2.58894775e+04,  1.22658237e+04,\n",
       "        1.95543622e+04,  1.71197170e+04,  1.09312760e+04,  4.30315918e+04,\n",
       "        1.20859888e+04,  7.35009862e+03,  9.92803827e+03,  2.09892128e+04,\n",
       "        1.58305861e+04,  3.98770041e+04,  1.65492787e+04,  4.02809585e+03,\n",
       "        3.95949050e+04,  1.97451191e+04,  1.81759768e+04,  8.11915647e+03,\n",
       "        1.56050611e+04,  2.42976828e+04,  9.93833633e+03,  1.73763498e+04,\n",
       "        2.57676774e+04,  9.93952563e+03,  2.05421238e+04,  9.15114432e+03,\n",
       "        1.01551050e+04,  1.56634911e+04,  7.34584023e+03,  9.01396524e+03,\n",
       "        1.59925769e+05,  8.54000001e+04,  3.09602096e+02,  2.50215144e+04,\n",
       "        1.55024152e+04, -7.83020632e+02,  1.69237656e+04,  1.52413020e+04,\n",
       "        1.13496986e+04,  9.98957170e+03,  2.41371539e+04,  8.80935726e+03,\n",
       "        1.44581445e+04,  2.15050910e+04,  1.55765617e+04,  5.73551933e+03,\n",
       "        2.87007244e+04,  2.89989994e+04,  2.29393646e+04,  5.03758994e+03,\n",
       "        7.08819744e+04,  1.49998998e+05,  1.40276283e+04,  2.11196378e+04,\n",
       "        5.20142170e+03,  1.48183730e+04,  3.02006468e+04,  1.71365946e+04,\n",
       "        8.11914603e+04,  1.09900784e+05,  1.00269930e+04,  1.11425759e+04,\n",
       "        4.93022605e+04,  2.26996905e+04,  1.74900000e+04,  1.04339714e+04,\n",
       "        2.02167602e+04,  1.79785686e+04,  6.65756210e+03,  1.29737986e+04,\n",
       "        1.95598656e+04, -4.05821879e+03,  1.10355024e+04,  4.30430425e+04,\n",
       "        1.15562327e+04,  1.04016545e+04,  1.12858133e+04,  3.49900005e+04,\n",
       "        1.14782270e+04,  1.73337481e+04,  2.26603501e+04,  2.30196424e+04,\n",
       "        2.71916665e+04,  1.27727457e+04,  1.96544492e+04,  7.69831925e+03,\n",
       "        1.30207773e+04,  1.21849477e+04,  1.27267335e+04,  1.19973312e+04,\n",
       "        1.97720394e+03,  1.77210657e+04,  4.52526436e+04,  3.06809158e+04,\n",
       "        1.27282567e+04,  2.88633743e+04,  5.06112108e+04,  1.26929509e+04,\n",
       "        2.58867029e+04,  2.66140544e+04,  1.51586244e+04, -4.75648741e+03,\n",
       "        5.50874068e+04, -1.21568555e+04,  8.02770744e+04,  1.71075494e+04,\n",
       "        7.51461534e+03,  1.47230616e+04,  1.30975337e+04,  7.59990015e+04,\n",
       "        6.84390587e+03,  1.82116617e+04,  1.75371438e+04,  1.38054143e+04,\n",
       "        1.84611420e+04,  1.17449908e+04,  1.11780144e+04,  2.04131944e+04,\n",
       "        2.06969364e+04,  8.76632831e+03,  1.99088871e+04,  6.72430592e+03,\n",
       "        1.06181571e+04,  9.01455295e+03,  1.32743788e+04,  1.58795130e+04,\n",
       "        4.71744831e+04,  1.77922534e+04,  3.99899962e+04,  9.94100716e+03,\n",
       "        5.31451143e+04,  9.65404133e+03,  2.29314750e+03,  1.39619073e+04,\n",
       "        1.38163265e+04,  1.98686748e+04,  1.89009569e+04,  7.84494499e+03,\n",
       "        1.28729540e+04,  8.71943234e+03,  1.30935352e+04,  6.13594364e+03,\n",
       "        1.34562292e+04,  2.13944041e+04,  1.19732287e+05,  2.30357264e+04,\n",
       "        1.74318446e+04,  7.84537613e+03,  3.75101066e+04,  6.01884003e+04,\n",
       "        2.04254885e+04,  7.75618639e+04,  6.69625929e+03,  2.41659596e+04,\n",
       "        4.18712999e+04,  1.21408056e+04,  3.10213263e+04,  2.27154660e+04,\n",
       "        6.01245607e+03,  7.64295574e+03,  1.56723607e+04,  1.78865245e+04,\n",
       "        3.96735085e+03,  1.87544036e+04,  5.18655076e+04,  7.78980982e+04,\n",
       "        1.00910571e+04,  1.12168905e+04,  1.02776733e+04,  8.04389851e+04,\n",
       "        3.48668833e+04,  1.67926832e+04,  2.00725258e+04,  1.30699430e+04,\n",
       "        3.56265541e+03,  1.93706234e+04,  9.96437263e+03,  2.25804695e+04,\n",
       "        2.78630882e+04,  7.24288273e+03,  2.12739336e+04,  6.51679489e+04,\n",
       "        1.34028425e+04,  3.51012500e+04,  5.32312259e+03,  3.20775292e+04,\n",
       "        2.23118816e+03,  3.65089111e+04,  8.43886634e+03,  1.45564836e+04,\n",
       "        1.68284943e+04,  3.50764313e+04,  7.31119186e+03,  3.85098212e+04,\n",
       "        1.12520818e+04,  3.72962971e+03,  1.41319121e+05,  4.29521085e+04,\n",
       "        3.33254803e+04,  2.72887852e+04,  1.03182091e+04,  2.62934234e+04,\n",
       "        2.30191192e+04,  1.12079645e+04,  4.81654628e+04,  1.13121987e+04,\n",
       "        3.40491436e+04,  1.27877915e+04,  7.39121620e+04,  1.51293284e+04,\n",
       "        1.36407640e+04,  2.21561524e+04,  8.55061650e+03,  1.48416326e+04,\n",
       "        3.24582548e+03,  3.57861353e+03,  3.57861353e+03,  1.63022762e+04,\n",
       "        9.57682290e+03,  1.56921820e+03,  1.52177774e+04,  4.03195209e+03,\n",
       "        1.28414441e+04,  1.03836760e+04, -7.83020632e+02,  6.87258373e+04,\n",
       "        2.27247019e+04,  1.65149603e+04,  1.17760159e+04,  3.10141652e+04,\n",
       "        9.29071950e+03,  9.56949001e+03,  1.00596625e+04,  3.53195545e+03,\n",
       "        3.10065862e+04,  7.73692154e+03,  1.39337168e+05,  1.97444119e+04,\n",
       "        3.19642310e+04,  7.39990039e+04,  6.02554331e+03,  2.09183810e+04,\n",
       "        3.36305390e+03,  1.30067168e+05,  6.29899878e+04,  5.44178958e+04,\n",
       "        1.37044579e+04,  1.99887819e+04,  5.37506962e+03,  1.14620088e+04,\n",
       "        2.61398122e+04,  1.75077648e+04,  2.28662005e+04,  9.59209904e+03,\n",
       "        3.24200254e+04,  8.79967486e+03,  2.71494497e+04,  2.59778679e+04,\n",
       "        1.45540678e+05,  1.29776006e+05,  2.08618508e+04,  1.47846981e+04,\n",
       "        7.41639446e+04,  4.92895738e+04,  2.48584328e+04,  3.44267682e+04,\n",
       "        1.49239132e+04,  1.19503010e+04,  2.28682428e+04,  1.85106472e+04,\n",
       "        1.84637676e+04,  4.85696118e+03,  2.01476728e+04,  2.17747277e+04,\n",
       "        1.59343126e+04,  2.79745579e+04,  1.20859781e+04,  1.29990295e+04,\n",
       "        1.18493152e+05,  1.84028414e+04,  2.50314676e+04,  3.95150436e+03,\n",
       "        1.99808682e+04,  7.19563353e+03,  7.16141484e+03,  9.41153687e+03,\n",
       "        1.47846981e+04,  2.02812916e+02,  1.14590035e+04,  8.54548665e+03,\n",
       "        2.06731867e+04,  6.12032081e+03,  1.99605742e+04,  1.79888812e+05,\n",
       "        7.85009318e+03,  4.52633260e+04,  2.41968949e+04,  4.38400020e+04,\n",
       "        5.57588779e+03,  9.91047380e+03,  1.89444213e+04,  2.25722083e+04,\n",
       "        2.82607174e+03,  1.39989989e+04,  1.69463488e+04,  6.91891051e+04,\n",
       "        1.73341038e+04,  7.91416017e+04,  1.81679342e+04,  2.91614738e+04,\n",
       "        1.45170895e+04,  4.63391310e+04,  2.29000004e+04,  2.08095037e+04,\n",
       "        1.83723923e+04,  6.35748313e+04,  1.50573261e+04,  5.48698059e+04,\n",
       "        6.81366176e+03,  2.49857979e+04,  5.50874068e+04,  1.82813857e+04,\n",
       "        1.32717252e+04,  1.94772358e+04,  2.61836953e+03,  1.47014462e+04,\n",
       "        7.14153781e+03,  1.10710503e+04,  2.05289963e+04,  9.81837095e+03,\n",
       "        2.23949253e+04,  1.09989979e+04,  1.88540600e+04,  2.50759057e+04,\n",
       "        1.42687287e+04,  1.45075912e+04,  5.68123226e+04,  9.64829760e+03,\n",
       "        2.45104701e+04,  2.83244027e+04,  2.41659596e+04,  2.17887117e+04,\n",
       "        9.69644774e+03,  3.44701831e+04,  2.88633743e+04,  1.21067841e+04,\n",
       "        2.64511734e+04, -1.02425321e+03,  5.93932900e+04,  1.11630103e+04,\n",
       "        2.00525472e+04,  1.11719227e+04,  1.35743409e+04,  1.57998999e+05,\n",
       "        7.97239738e+03,  8.51199342e+03,  8.51837793e+04,  3.99990022e+04,\n",
       "        6.45790300e+03,  8.54829355e+04,  4.49502383e+04,  9.68984834e+03,\n",
       "        1.55961098e+04,  7.57430358e+03,  8.16614223e+04,  7.51136155e+04,\n",
       "        3.32333857e+04,  1.29214136e+04,  7.94184041e+03,  3.27237868e+04,\n",
       "       -1.10515543e+04,  2.54550398e+04,  7.35484913e+04,  1.74334230e+04,\n",
       "        2.48297176e+04,  1.53129864e+04,  5.27437666e+04,  1.21136165e+04,\n",
       "        1.78249628e+04,  1.49276770e+04,  8.03090862e+04,  1.57962647e+04,\n",
       "        2.81272119e+04,  6.50355851e+04,  1.09366810e+04,  7.49858130e+03,\n",
       "        1.90101088e+04,  1.49998998e+05,  1.79836595e+05,  3.29687430e+04,\n",
       "        7.17427365e+03,  3.90839587e+04,  1.04991252e+04,  4.80176519e+04,\n",
       "        1.11952731e+04,  1.40517330e+04,  3.86261746e+04,  1.10031161e+04,\n",
       "        1.30014951e+05,  3.49329411e+04,  2.51770736e+04,  1.09606579e+04,\n",
       "        2.57311647e+04,  6.01466143e+03,  2.63244098e+04,  8.77792609e+03,\n",
       "       -4.84534704e+03,  5.65278993e+04,  1.66684990e+04, -5.84146656e+03,\n",
       "        2.58534470e+04,  8.07943243e+02,  5.47333246e+04,  9.50000014e+04,\n",
       "        1.23485832e+04,  2.13986678e+04,  3.65538187e+03,  2.33145467e+04,\n",
       "        3.30388181e+04,  7.31303206e+03,  8.12136969e+03,  9.84215303e+03,\n",
       "        1.77920097e+04,  2.00574294e+04,  9.98145160e+03,  1.69290321e+04,\n",
       "        1.70465017e+04,  8.55863946e+03])"
      ]
     },
     "execution_count": 32,
     "metadata": {},
     "output_type": "execute_result"
    }
   ],
   "source": [
    "y_pred"
   ]
  },
  {
   "cell_type": "code",
   "execution_count": 33,
   "id": "f54f507b",
   "metadata": {},
   "outputs": [
    {
     "data": {
      "text/plain": [
       "0.9365184064122631"
      ]
     },
     "execution_count": 33,
     "metadata": {},
     "output_type": "execute_result"
    }
   ],
   "source": [
    "r2_score(y_test,y_pred)"
   ]
  },
  {
   "cell_type": "code",
   "execution_count": 34,
   "id": "88c7bc47",
   "metadata": {},
   "outputs": [],
   "source": [
    "score=[]\n",
    "for i in range(3000):\n",
    "    x_train,x_test,y_train,y_test=train_test_split(x,y, test_size=0.2,random_state=i)\n",
    "    lr=LinearRegression()\n",
    "    pipe =make_pipeline(column_trans,lr)\n",
    "    pipe.fit(x_train,y_train)\n",
    "    y_pred= pipe.predict(x_test)\n",
    "    score.append(r2_score(y_test,y_pred))"
   ]
  },
  {
   "cell_type": "code",
   "execution_count": 35,
   "id": "564efcd8",
   "metadata": {},
   "outputs": [
    {
     "data": {
      "text/plain": [
       "236"
      ]
     },
     "execution_count": 35,
     "metadata": {},
     "output_type": "execute_result"
    }
   ],
   "source": [
    "np.argmax(score)"
   ]
  },
  {
   "cell_type": "code",
   "execution_count": 36,
   "id": "86a27776",
   "metadata": {},
   "outputs": [
    {
     "data": {
      "text/plain": [
       "0.970916560585745"
      ]
     },
     "execution_count": 36,
     "metadata": {},
     "output_type": "execute_result"
    }
   ],
   "source": [
    "score[np.argmax(score)]"
   ]
  },
  {
   "cell_type": "code",
   "execution_count": 37,
   "id": "052a92ef",
   "metadata": {},
   "outputs": [
    {
     "data": {
      "text/plain": [
       "0.970916560585745"
      ]
     },
     "execution_count": 37,
     "metadata": {},
     "output_type": "execute_result"
    }
   ],
   "source": [
    "x_train,x_test,y_train,y_test=train_test_split(x,y, test_size=0.2,random_state=np.argmax(score))\n",
    "lr=LinearRegression()\n",
    "pipe =make_pipeline(column_trans,lr)\n",
    "pipe.fit(x_train,y_train)\n",
    "y_pred= pipe.predict(x_test)\n",
    "r2_score(y_test,y_pred)"
   ]
  },
  {
   "cell_type": "code",
   "execution_count": 38,
   "id": "abef42d5",
   "metadata": {},
   "outputs": [],
   "source": [
    "import pickle"
   ]
  },
  {
   "cell_type": "code",
   "execution_count": 39,
   "id": "d4afb816",
   "metadata": {},
   "outputs": [],
   "source": [
    "pickle.dump(pipe,open('LinearRegressionModel.pkl','wb'))"
   ]
  },
  {
   "cell_type": "code",
   "execution_count": 40,
   "id": "acc94c02",
   "metadata": {},
   "outputs": [
    {
     "data": {
      "text/plain": [
       "array([12129.99502485])"
      ]
     },
     "execution_count": 40,
     "metadata": {},
     "output_type": "execute_result"
    }
   ],
   "source": [
    "pipe.predict(pd.DataFrame([['OPPO','A53','Mint Cream','4 GB','64 GB',4.5,15990]],columns=['Brand','Model','Color','Memory','Storage','Rating','Original Price']))"
   ]
  },
  {
   "cell_type": "code",
   "execution_count": null,
   "id": "64a4893d",
   "metadata": {},
   "outputs": [],
   "source": []
  }
 ],
 "metadata": {
  "kernelspec": {
   "display_name": "Python 3 (ipykernel)",
   "language": "python",
   "name": "python3"
  },
  "language_info": {
   "codemirror_mode": {
    "name": "ipython",
    "version": 3
   },
   "file_extension": ".py",
   "mimetype": "text/x-python",
   "name": "python",
   "nbconvert_exporter": "python",
   "pygments_lexer": "ipython3",
   "version": "3.9.12"
  }
 },
 "nbformat": 4,
 "nbformat_minor": 5
}
